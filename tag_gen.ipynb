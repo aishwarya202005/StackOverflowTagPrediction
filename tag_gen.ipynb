{
 "cells": [
  {
   "cell_type": "code",
   "execution_count": 28,
   "metadata": {
    "colab": {
     "base_uri": "https://localhost:8080/",
     "height": 86
    },
    "colab_type": "code",
    "id": "K2mM_GIzVH_4",
    "outputId": "2479aebe-8a8b-4e67-8f78-93383ab9109b"
   },
   "outputs": [
    {
     "name": "stdout",
     "output_type": "stream",
     "text": [
      "[nltk_data] Downloading package stopwords to /root/nltk_data...\n",
      "[nltk_data]   Package stopwords is already up-to-date!\n",
      "[nltk_data] Downloading package punkt to /root/nltk_data...\n",
      "[nltk_data]   Package punkt is already up-to-date!\n"
     ]
    }
   ],
   "source": [
    "import pandas as pd\n",
    "import numpy as np\n",
    "from sklearn.feature_extraction.text import CountVectorizer\n",
    "import nltk\n",
    "nltk.download(\"stopwords\")\n",
    "from nltk.corpus import stopwords\n",
    "from nltk.tokenize import word_tokenize\n",
    "from nltk.stem.snowball import SnowballStemmer\n",
    "import re\n",
    "from nltk.tokenize import word_tokenize\n",
    "nltk.download(\"punkt\")\n",
    "from sklearn.feature_extraction.text import TfidfVectorizer\n",
    "from sklearn.multiclass import OneVsRestClassifier\n",
    "from sklearn.linear_model import SGDClassifier\n",
    "from sklearn import metrics\n",
    "from sklearn.metrics import f1_score,precision_score,recall_score\n",
    "from sklearn.model_selection import train_test_split\n",
    "import matplotlib.pyplot as plt\n",
    "from sklearn.model_selection import GridSearchCV"
   ]
  },
  {
   "cell_type": "code",
   "execution_count": 2,
   "metadata": {
    "colab": {
     "base_uri": "https://localhost:8080/",
     "height": 34
    },
    "colab_type": "code",
    "id": "_wZel8ePXPky",
    "outputId": "6b21de9a-823b-4a1f-d71c-d598875d4f5b"
   },
   "outputs": [
    {
     "data": {
      "text/plain": [
       "'/device:GPU:0'"
      ]
     },
     "execution_count": 2,
     "metadata": {
      "tags": []
     },
     "output_type": "execute_result"
    }
   ],
   "source": [
    "\n",
    "import tensorflow as tf \n",
    "tf.test.gpu_device_name() \n"
   ]
  },
  {
   "cell_type": "code",
   "execution_count": 1,
   "metadata": {
    "colab": {
     "base_uri": "https://localhost:8080/",
     "height": 124
    },
    "colab_type": "code",
    "id": "XyjPQCY1VRWU",
    "outputId": "7889348d-a036-40d6-cc61-48b812ee428e"
   },
   "outputs": [],
   "source": [
    "# from google.colab import drive\n",
    "# drive.mount('/content/drive')\n",
    "\n"
   ]
  },
  {
   "cell_type": "code",
   "execution_count": 0,
   "metadata": {
    "colab": {},
    "colab_type": "code",
    "id": "7Yc9rriJVRaf"
   },
   "outputs": [],
   "source": [
    "df=pd.read_csv('/content/drive/My Drive/stackoverflow/Train.csv')"
   ]
  },
  {
   "cell_type": "code",
   "execution_count": 0,
   "metadata": {
    "colab": {
     "base_uri": "https://localhost:8080/",
     "height": 34
    },
    "colab_type": "code",
    "id": "wUmZJRa7VRes",
    "outputId": "c5aa1306-9bb1-49a2-e9e5-f845b7853136"
   },
   "outputs": [
    {
     "data": {
      "text/plain": [
       "(6034195, 4)"
      ]
     },
     "execution_count": 6,
     "metadata": {
      "tags": []
     },
     "output_type": "execute_result"
    }
   ],
   "source": [
    "df.shape"
   ]
  },
  {
   "cell_type": "code",
   "execution_count": 0,
   "metadata": {
    "colab": {
     "base_uri": "https://localhost:8080/",
     "height": 206
    },
    "colab_type": "code",
    "id": "VTgQBKZfac73",
    "outputId": "f259fc2d-bc20-44e5-df5e-9cdbb6c6a3eb"
   },
   "outputs": [
    {
     "data": {
      "text/html": [
       "<div>\n",
       "<style scoped>\n",
       "    .dataframe tbody tr th:only-of-type {\n",
       "        vertical-align: middle;\n",
       "    }\n",
       "\n",
       "    .dataframe tbody tr th {\n",
       "        vertical-align: top;\n",
       "    }\n",
       "\n",
       "    .dataframe thead th {\n",
       "        text-align: right;\n",
       "    }\n",
       "</style>\n",
       "<table border=\"1\" class=\"dataframe\">\n",
       "  <thead>\n",
       "    <tr style=\"text-align: right;\">\n",
       "      <th></th>\n",
       "      <th>Id</th>\n",
       "      <th>Title</th>\n",
       "      <th>Body</th>\n",
       "      <th>Tags</th>\n",
       "    </tr>\n",
       "  </thead>\n",
       "  <tbody>\n",
       "    <tr>\n",
       "      <th>0</th>\n",
       "      <td>1</td>\n",
       "      <td>How to check if an uploaded file is an image w...</td>\n",
       "      <td>&lt;p&gt;I'd like to check if an uploaded file is an...</td>\n",
       "      <td>php image-processing file-upload upload mime-t...</td>\n",
       "    </tr>\n",
       "    <tr>\n",
       "      <th>1</th>\n",
       "      <td>2</td>\n",
       "      <td>How can I prevent firefox from closing when I ...</td>\n",
       "      <td>&lt;p&gt;In my favorite editor (vim), I regularly us...</td>\n",
       "      <td>firefox</td>\n",
       "    </tr>\n",
       "    <tr>\n",
       "      <th>2</th>\n",
       "      <td>3</td>\n",
       "      <td>R Error Invalid type (list) for variable</td>\n",
       "      <td>&lt;p&gt;I am import matlab file and construct a dat...</td>\n",
       "      <td>r matlab machine-learning</td>\n",
       "    </tr>\n",
       "    <tr>\n",
       "      <th>3</th>\n",
       "      <td>4</td>\n",
       "      <td>How do I replace special characters in a URL?</td>\n",
       "      <td>&lt;p&gt;This is probably very simple, but I simply ...</td>\n",
       "      <td>c# url encoding</td>\n",
       "    </tr>\n",
       "    <tr>\n",
       "      <th>4</th>\n",
       "      <td>5</td>\n",
       "      <td>How to modify whois contact details?</td>\n",
       "      <td>&lt;pre&gt;&lt;code&gt;function modify(.......)\\n{\\n  $mco...</td>\n",
       "      <td>php api file-get-contents</td>\n",
       "    </tr>\n",
       "  </tbody>\n",
       "</table>\n",
       "</div>"
      ],
      "text/plain": [
       "   Id  ...                                               Tags\n",
       "0   1  ...  php image-processing file-upload upload mime-t...\n",
       "1   2  ...                                            firefox\n",
       "2   3  ...                          r matlab machine-learning\n",
       "3   4  ...                                    c# url encoding\n",
       "4   5  ...                          php api file-get-contents\n",
       "\n",
       "[5 rows x 4 columns]"
      ]
     },
     "execution_count": 8,
     "metadata": {
      "tags": []
     },
     "output_type": "execute_result"
    }
   ],
   "source": [
    "df.head()"
   ]
  },
  {
   "cell_type": "markdown",
   "metadata": {},
   "source": [
    "To find duplicates in the dataset groups rows based on title,body and tags"
   ]
  },
  {
   "cell_type": "code",
   "execution_count": 0,
   "metadata": {
    "colab": {},
    "colab_type": "code",
    "id": "tUgKrw3gVRkz"
   },
   "outputs": [],
   "source": [
    "df_d = df.groupby(['Title', 'Body','Tags']).size().reset_index(name='dup_count')"
   ]
  },
  {
   "cell_type": "code",
   "execution_count": 0,
   "metadata": {
    "colab": {
     "base_uri": "https://localhost:8080/",
     "height": 206
    },
    "colab_type": "code",
    "id": "gyH7f7aIZGbx",
    "outputId": "66ac8ed5-9bd3-43f5-f7a0-4b47dd331a8f"
   },
   "outputs": [
    {
     "data": {
      "text/html": [
       "<div>\n",
       "<style scoped>\n",
       "    .dataframe tbody tr th:only-of-type {\n",
       "        vertical-align: middle;\n",
       "    }\n",
       "\n",
       "    .dataframe tbody tr th {\n",
       "        vertical-align: top;\n",
       "    }\n",
       "\n",
       "    .dataframe thead th {\n",
       "        text-align: right;\n",
       "    }\n",
       "</style>\n",
       "<table border=\"1\" class=\"dataframe\">\n",
       "  <thead>\n",
       "    <tr style=\"text-align: right;\">\n",
       "      <th></th>\n",
       "      <th>Title</th>\n",
       "      <th>Body</th>\n",
       "      <th>Tags</th>\n",
       "      <th>dup_count</th>\n",
       "    </tr>\n",
       "  </thead>\n",
       "  <tbody>\n",
       "    <tr>\n",
       "      <th>0</th>\n",
       "      <td>Implementing Boundary Value Analysis of S...</td>\n",
       "      <td>&lt;pre&gt;&lt;code&gt;#include&amp;lt;iostream&amp;gt;\\n#include&amp;...</td>\n",
       "      <td>c++ c</td>\n",
       "      <td>1</td>\n",
       "    </tr>\n",
       "    <tr>\n",
       "      <th>1</th>\n",
       "      <td>Dynamic Datagrid Binding in Silverlight?</td>\n",
       "      <td>&lt;p&gt;I should do binding for datagrid dynamicall...</td>\n",
       "      <td>c# silverlight data-binding</td>\n",
       "      <td>1</td>\n",
       "    </tr>\n",
       "    <tr>\n",
       "      <th>2</th>\n",
       "      <td>Dynamic Datagrid Binding in Silverlight?</td>\n",
       "      <td>&lt;p&gt;I should do binding for datagrid dynamicall...</td>\n",
       "      <td>c# silverlight data-binding columns</td>\n",
       "      <td>1</td>\n",
       "    </tr>\n",
       "    <tr>\n",
       "      <th>3</th>\n",
       "      <td>java.lang.NoClassDefFoundError: javax/serv...</td>\n",
       "      <td>&lt;p&gt;I followed the guide in &lt;a href=\"http://sta...</td>\n",
       "      <td>jsp jstl</td>\n",
       "      <td>1</td>\n",
       "    </tr>\n",
       "    <tr>\n",
       "      <th>4</th>\n",
       "      <td>java.sql.SQLException:[Microsoft][ODBC Dri...</td>\n",
       "      <td>&lt;p&gt;I use the following code&lt;/p&gt;\\n\\n&lt;pre&gt;&lt;code&gt;...</td>\n",
       "      <td>java jdbc</td>\n",
       "      <td>2</td>\n",
       "    </tr>\n",
       "  </tbody>\n",
       "</table>\n",
       "</div>"
      ],
      "text/plain": [
       "                                               Title  ... dup_count\n",
       "0       Implementing Boundary Value Analysis of S...  ...         1\n",
       "1           Dynamic Datagrid Binding in Silverlight?  ...         1\n",
       "2           Dynamic Datagrid Binding in Silverlight?  ...         1\n",
       "3      java.lang.NoClassDefFoundError: javax/serv...  ...         1\n",
       "4      java.sql.SQLException:[Microsoft][ODBC Dri...  ...         2\n",
       "\n",
       "[5 rows x 4 columns]"
      ]
     },
     "execution_count": 11,
     "metadata": {
      "tags": []
     },
     "output_type": "execute_result"
    }
   ],
   "source": [
    "df_d.head()"
   ]
  },
  {
   "cell_type": "code",
   "execution_count": 0,
   "metadata": {
    "colab": {
     "base_uri": "https://localhost:8080/",
     "height": 34
    },
    "colab_type": "code",
    "id": "vWs1c_HOZGgI",
    "outputId": "ff7d9179-19f6-4256-c388-daf3631c69ce"
   },
   "outputs": [
    {
     "name": "stdout",
     "output_type": "stream",
     "text": [
      "total duplicate rows   1827888\n"
     ]
    }
   ],
   "source": [
    "print(\"total duplicate rows  \", (df.shape[0]-df_d.shape[0]))"
   ]
  },
  {
   "cell_type": "markdown",
   "metadata": {
    "colab_type": "text",
    "id": "LQijDWjNhcvm"
   },
   "source": [
    "Duplicate rows count"
   ]
  },
  {
   "cell_type": "code",
   "execution_count": 0,
   "metadata": {
    "colab": {},
    "colab_type": "code",
    "id": "Jndbf1k7ZGjy"
   },
   "outputs": [],
   "source": [
    "df_d[\"tag_count\"] = df_d[\"Tags\"].apply(lambda text: len(text.split(\" \")))"
   ]
  },
  {
   "cell_type": "code",
   "execution_count": 0,
   "metadata": {
    "colab": {
     "base_uri": "https://localhost:8080/",
     "height": 276
    },
    "colab_type": "code",
    "id": "_mMwENdaZGnI",
    "outputId": "0ec45c4d-2759-487e-b1b8-cd47c3c8f303"
   },
   "outputs": [
    {
     "data": {
      "text/html": [
       "<div>\n",
       "<style scoped>\n",
       "    .dataframe tbody tr th:only-of-type {\n",
       "        vertical-align: middle;\n",
       "    }\n",
       "\n",
       "    .dataframe tbody tr th {\n",
       "        vertical-align: top;\n",
       "    }\n",
       "\n",
       "    .dataframe thead th {\n",
       "        text-align: right;\n",
       "    }\n",
       "</style>\n",
       "<table border=\"1\" class=\"dataframe\">\n",
       "  <thead>\n",
       "    <tr style=\"text-align: right;\">\n",
       "      <th></th>\n",
       "      <th>Title</th>\n",
       "      <th>Body</th>\n",
       "      <th>Tags</th>\n",
       "      <th>dup_count</th>\n",
       "      <th>tag_count</th>\n",
       "    </tr>\n",
       "  </thead>\n",
       "  <tbody>\n",
       "    <tr>\n",
       "      <th>0</th>\n",
       "      <td>Implementing Boundary Value Analysis of S...</td>\n",
       "      <td>&lt;pre&gt;&lt;code&gt;#include&amp;lt;iostream&amp;gt;\\n#include&amp;...</td>\n",
       "      <td>c++ c</td>\n",
       "      <td>1</td>\n",
       "      <td>2</td>\n",
       "    </tr>\n",
       "    <tr>\n",
       "      <th>1</th>\n",
       "      <td>Dynamic Datagrid Binding in Silverlight?</td>\n",
       "      <td>&lt;p&gt;I should do binding for datagrid dynamicall...</td>\n",
       "      <td>c# silverlight data-binding</td>\n",
       "      <td>1</td>\n",
       "      <td>3</td>\n",
       "    </tr>\n",
       "    <tr>\n",
       "      <th>2</th>\n",
       "      <td>Dynamic Datagrid Binding in Silverlight?</td>\n",
       "      <td>&lt;p&gt;I should do binding for datagrid dynamicall...</td>\n",
       "      <td>c# silverlight data-binding columns</td>\n",
       "      <td>1</td>\n",
       "      <td>4</td>\n",
       "    </tr>\n",
       "    <tr>\n",
       "      <th>3</th>\n",
       "      <td>java.lang.NoClassDefFoundError: javax/serv...</td>\n",
       "      <td>&lt;p&gt;I followed the guide in &lt;a href=\"http://sta...</td>\n",
       "      <td>jsp jstl</td>\n",
       "      <td>1</td>\n",
       "      <td>2</td>\n",
       "    </tr>\n",
       "    <tr>\n",
       "      <th>4</th>\n",
       "      <td>java.sql.SQLException:[Microsoft][ODBC Dri...</td>\n",
       "      <td>&lt;p&gt;I use the following code&lt;/p&gt;\\n\\n&lt;pre&gt;&lt;code&gt;...</td>\n",
       "      <td>java jdbc</td>\n",
       "      <td>2</td>\n",
       "      <td>2</td>\n",
       "    </tr>\n",
       "  </tbody>\n",
       "</table>\n",
       "</div>"
      ],
      "text/plain": [
       "                                               Title  ... tag_count\n",
       "0       Implementing Boundary Value Analysis of S...  ...         2\n",
       "1           Dynamic Datagrid Binding in Silverlight?  ...         3\n",
       "2           Dynamic Datagrid Binding in Silverlight?  ...         4\n",
       "3      java.lang.NoClassDefFoundError: javax/serv...  ...         2\n",
       "4      java.sql.SQLException:[Microsoft][ODBC Dri...  ...         2\n",
       "\n",
       "[5 rows x 5 columns]"
      ]
     },
     "execution_count": 14,
     "metadata": {
      "tags": []
     },
     "output_type": "execute_result"
    }
   ],
   "source": [
    "df_d.head()"
   ]
  },
  {
   "cell_type": "code",
   "execution_count": 0,
   "metadata": {
    "colab": {
     "base_uri": "https://localhost:8080/",
     "height": 121
    },
    "colab_type": "code",
    "id": "qIZJDIn5ZGue",
    "outputId": "bef86c94-f863-4b00-b5b1-e119049a9362"
   },
   "outputs": [
    {
     "data": {
      "text/plain": [
       "3    1206157\n",
       "2    1111706\n",
       "4     814996\n",
       "1     568290\n",
       "5     505158\n",
       "Name: tag_count, dtype: int64"
      ]
     },
     "execution_count": 15,
     "metadata": {
      "tags": []
     },
     "output_type": "execute_result"
    }
   ],
   "source": [
    "df_d['tag_count'].value_counts()"
   ]
  },
  {
   "cell_type": "markdown",
   "metadata": {
    "colab_type": "text",
    "id": "zMAcCFUKkNoF"
   },
   "source": [
    "**Observation:**\n",
    "1.   Range of tags for question will be from 1 to 5.\n",
    "2.   Most of the questions have 3 tags.\n",
    "3.   Very few questions have 5 tags\n"
   ]
  },
  {
   "cell_type": "code",
   "execution_count": 0,
   "metadata": {
    "colab": {},
    "colab_type": "code",
    "id": "8xrhcg9IZG0s"
   },
   "outputs": [],
   "source": [
    "df_d.to_csv('/content/drive/My Drive/stackoverflow/temp1.csv')"
   ]
  },
  {
   "cell_type": "code",
   "execution_count": 0,
   "metadata": {
    "colab": {},
    "colab_type": "code",
    "id": "0CoO_KJbEeSI"
   },
   "outputs": [],
   "source": [
    "df_d=pd.read_csv('/content/drive/My Drive/stackoverflow/temp1.csv')"
   ]
  },
  {
   "cell_type": "code",
   "execution_count": 0,
   "metadata": {
    "colab": {
     "base_uri": "https://localhost:8080/",
     "height": 34
    },
    "colab_type": "code",
    "id": "uksldE-mkzDU",
    "outputId": "feda0d12-2b56-4aad-d794-4d8ce2078626"
   },
   "outputs": [
    {
     "data": {
      "text/plain": [
       "(4206307, 6)"
      ]
     },
     "execution_count": 254,
     "metadata": {
      "tags": []
     },
     "output_type": "execute_result"
    }
   ],
   "source": [
    "df_d.shape"
   ]
  },
  {
   "cell_type": "code",
   "execution_count": 0,
   "metadata": {
    "colab": {
     "base_uri": "https://localhost:8080/",
     "height": 310
    },
    "colab_type": "code",
    "id": "t4ywbwNIw_Zw",
    "outputId": "d330457a-82d9-48c5-8b04-7e99afa2654d"
   },
   "outputs": [
    {
     "data": {
      "text/html": [
       "<div>\n",
       "<style scoped>\n",
       "    .dataframe tbody tr th:only-of-type {\n",
       "        vertical-align: middle;\n",
       "    }\n",
       "\n",
       "    .dataframe tbody tr th {\n",
       "        vertical-align: top;\n",
       "    }\n",
       "\n",
       "    .dataframe thead th {\n",
       "        text-align: right;\n",
       "    }\n",
       "</style>\n",
       "<table border=\"1\" class=\"dataframe\">\n",
       "  <thead>\n",
       "    <tr style=\"text-align: right;\">\n",
       "      <th></th>\n",
       "      <th>Unnamed: 0</th>\n",
       "      <th>Title</th>\n",
       "      <th>Body</th>\n",
       "      <th>Tags</th>\n",
       "      <th>dup_count</th>\n",
       "      <th>tag_count</th>\n",
       "    </tr>\n",
       "  </thead>\n",
       "  <tbody>\n",
       "    <tr>\n",
       "      <th>0</th>\n",
       "      <td>0</td>\n",
       "      <td>Implementing Boundary Value Analysis of S...</td>\n",
       "      <td>&lt;pre&gt;&lt;code&gt;#include&amp;lt;iostream&amp;gt;\\n#include&amp;...</td>\n",
       "      <td>c++ c</td>\n",
       "      <td>1</td>\n",
       "      <td>2</td>\n",
       "    </tr>\n",
       "    <tr>\n",
       "      <th>1</th>\n",
       "      <td>1</td>\n",
       "      <td>Dynamic Datagrid Binding in Silverlight?</td>\n",
       "      <td>&lt;p&gt;I should do binding for datagrid dynamicall...</td>\n",
       "      <td>c# silverlight data-binding</td>\n",
       "      <td>1</td>\n",
       "      <td>3</td>\n",
       "    </tr>\n",
       "    <tr>\n",
       "      <th>2</th>\n",
       "      <td>2</td>\n",
       "      <td>Dynamic Datagrid Binding in Silverlight?</td>\n",
       "      <td>&lt;p&gt;I should do binding for datagrid dynamicall...</td>\n",
       "      <td>c# silverlight data-binding columns</td>\n",
       "      <td>1</td>\n",
       "      <td>4</td>\n",
       "    </tr>\n",
       "    <tr>\n",
       "      <th>3</th>\n",
       "      <td>3</td>\n",
       "      <td>java.lang.NoClassDefFoundError: javax/serv...</td>\n",
       "      <td>&lt;p&gt;I followed the guide in &lt;a href=\"http://sta...</td>\n",
       "      <td>jsp jstl</td>\n",
       "      <td>1</td>\n",
       "      <td>2</td>\n",
       "    </tr>\n",
       "    <tr>\n",
       "      <th>4</th>\n",
       "      <td>4</td>\n",
       "      <td>java.sql.SQLException:[Microsoft][ODBC Dri...</td>\n",
       "      <td>&lt;p&gt;I use the following code&lt;/p&gt;\\n\\n&lt;pre&gt;&lt;code&gt;...</td>\n",
       "      <td>java jdbc</td>\n",
       "      <td>2</td>\n",
       "      <td>2</td>\n",
       "    </tr>\n",
       "  </tbody>\n",
       "</table>\n",
       "</div>"
      ],
      "text/plain": [
       "   Unnamed: 0  ... tag_count\n",
       "0           0  ...         2\n",
       "1           1  ...         3\n",
       "2           2  ...         4\n",
       "3           3  ...         2\n",
       "4           4  ...         2\n",
       "\n",
       "[5 rows x 6 columns]"
      ]
     },
     "execution_count": 6,
     "metadata": {
      "tags": []
     },
     "output_type": "execute_result"
    }
   ],
   "source": [
    "df_d.head()"
   ]
  },
  {
   "cell_type": "code",
   "execution_count": 0,
   "metadata": {
    "colab": {
     "base_uri": "https://localhost:8080/",
     "height": 34
    },
    "colab_type": "code",
    "id": "q3B7psigE2LT",
    "outputId": "2a16cf50-b0cf-4d54-cb4c-b7b422d585f8"
   },
   "outputs": [
    {
     "data": {
      "text/plain": [
       "(4206307, 6)"
      ]
     },
     "execution_count": 7,
     "metadata": {
      "tags": []
     },
     "output_type": "execute_result"
    }
   ],
   "source": [
    "df_d.shape"
   ]
  },
  {
   "cell_type": "markdown",
   "metadata": {
    "colab_type": "text",
    "id": "NmXz-wuVlBiB"
   },
   "source": [
    " **Analysis of tags**"
   ]
  },
  {
   "cell_type": "code",
   "execution_count": 0,
   "metadata": {
    "colab": {},
    "colab_type": "code",
    "id": "iwqbGODbZHEx"
   },
   "outputs": [],
   "source": [
    "ll=[x.split() for x in df_d['Tags'].unique()]"
   ]
  },
  {
   "cell_type": "code",
   "execution_count": 0,
   "metadata": {
    "colab": {},
    "colab_type": "code",
    "id": "67I7euxAwbEX"
   },
   "outputs": [],
   "source": [
    "flatten = [item for l in ll for item in l]"
   ]
  },
  {
   "cell_type": "code",
   "execution_count": 32,
   "metadata": {
    "colab": {
     "base_uri": "https://localhost:8080/",
     "height": 34
    },
    "colab_type": "code",
    "id": "L0zPm20_0U4y",
    "outputId": "89777bcd-19b8-4954-8d23-dd78ab48ef84"
   },
   "outputs": [
    {
     "name": "stdout",
     "output_type": "stream",
     "text": [
      "number of unique tags: 42048\n"
     ]
    }
   ],
   "source": [
    "abs=set(flatten)\n",
    "print(\"number of unique tags:\", len(abs))"
   ]
  },
  {
   "cell_type": "code",
   "execution_count": 0,
   "metadata": {
    "colab": {},
    "colab_type": "code",
    "id": "LVMrDaY6ZG_N"
   },
   "outputs": [],
   "source": [
    "tags = list(abs)"
   ]
  },
  {
   "cell_type": "code",
   "execution_count": 0,
   "metadata": {
    "colab": {},
    "colab_type": "code",
    "id": "zLSODOtDZG65"
   },
   "outputs": [],
   "source": [
    "tag_df = pd.DataFrame({'col':flatten})"
   ]
  },
  {
   "cell_type": "code",
   "execution_count": 0,
   "metadata": {
    "colab": {},
    "colab_type": "code",
    "id": "a87QOtvcZG3v"
   },
   "outputs": [],
   "source": [
    "tag_df = tag_df.groupby(['col']).size().reset_index(name='count')"
   ]
  },
  {
   "cell_type": "code",
   "execution_count": 36,
   "metadata": {
    "colab": {
     "base_uri": "https://localhost:8080/",
     "height": 34
    },
    "colab_type": "code",
    "id": "WptXUOYhZGyD",
    "outputId": "7aadda3b-f827-455a-e74e-021fa9b65b62"
   },
   "outputs": [
    {
     "data": {
      "text/plain": [
       "(42048, 2)"
      ]
     },
     "execution_count": 36,
     "metadata": {
      "tags": []
     },
     "output_type": "execute_result"
    }
   ],
   "source": [
    "tag_df.shape"
   ]
  },
  {
   "cell_type": "code",
   "execution_count": 0,
   "metadata": {
    "colab": {
     "base_uri": "https://localhost:8080/",
     "height": 206
    },
    "colab_type": "code",
    "id": "f3h9eZdOElTH",
    "outputId": "7e8fb35e-4f2d-44c9-f283-d1d054a83aa4"
   },
   "outputs": [
    {
     "data": {
      "text/html": [
       "<div>\n",
       "<style scoped>\n",
       "    .dataframe tbody tr th:only-of-type {\n",
       "        vertical-align: middle;\n",
       "    }\n",
       "\n",
       "    .dataframe tbody tr th {\n",
       "        vertical-align: top;\n",
       "    }\n",
       "\n",
       "    .dataframe thead th {\n",
       "        text-align: right;\n",
       "    }\n",
       "</style>\n",
       "<table border=\"1\" class=\"dataframe\">\n",
       "  <thead>\n",
       "    <tr style=\"text-align: right;\">\n",
       "      <th></th>\n",
       "      <th>col</th>\n",
       "      <th>count</th>\n",
       "    </tr>\n",
       "  </thead>\n",
       "  <tbody>\n",
       "    <tr>\n",
       "      <th>0</th>\n",
       "      <td>.a</td>\n",
       "      <td>18</td>\n",
       "    </tr>\n",
       "    <tr>\n",
       "      <th>1</th>\n",
       "      <td>.app</td>\n",
       "      <td>32</td>\n",
       "    </tr>\n",
       "    <tr>\n",
       "      <th>2</th>\n",
       "      <td>.asp.net-mvc</td>\n",
       "      <td>1</td>\n",
       "    </tr>\n",
       "    <tr>\n",
       "      <th>3</th>\n",
       "      <td>.aspxauth</td>\n",
       "      <td>21</td>\n",
       "    </tr>\n",
       "    <tr>\n",
       "      <th>4</th>\n",
       "      <td>.bash-profile</td>\n",
       "      <td>119</td>\n",
       "    </tr>\n",
       "  </tbody>\n",
       "</table>\n",
       "</div>"
      ],
      "text/plain": [
       "             col  count\n",
       "0             .a     18\n",
       "1           .app     32\n",
       "2   .asp.net-mvc      1\n",
       "3      .aspxauth     21\n",
       "4  .bash-profile    119"
      ]
     },
     "execution_count": 25,
     "metadata": {
      "tags": []
     },
     "output_type": "execute_result"
    }
   ],
   "source": [
    "tag_df.head()"
   ]
  },
  {
   "cell_type": "code",
   "execution_count": 0,
   "metadata": {
    "colab": {},
    "colab_type": "code",
    "id": "pgVR4qTrZGsm"
   },
   "outputs": [],
   "source": [
    "tag_df_sorted = tag_df.sort_values(['count'], ascending=False)\n",
    "tag_counts = tag_df_sorted['count'].values"
   ]
  },
  {
   "cell_type": "code",
   "execution_count": 38,
   "metadata": {
    "colab": {
     "base_uri": "https://localhost:8080/",
     "height": 363
    },
    "colab_type": "code",
    "id": "HFTT1-GOZGqP",
    "outputId": "93b8199b-f0a9-4ee7-b271-b553f2a6933a"
   },
   "outputs": [
    {
     "data": {
      "text/html": [
       "<div>\n",
       "<style scoped>\n",
       "    .dataframe tbody tr th:only-of-type {\n",
       "        vertical-align: middle;\n",
       "    }\n",
       "\n",
       "    .dataframe tbody tr th {\n",
       "        vertical-align: top;\n",
       "    }\n",
       "\n",
       "    .dataframe thead th {\n",
       "        text-align: right;\n",
       "    }\n",
       "</style>\n",
       "<table border=\"1\" class=\"dataframe\">\n",
       "  <thead>\n",
       "    <tr style=\"text-align: right;\">\n",
       "      <th></th>\n",
       "      <th>col</th>\n",
       "      <th>count</th>\n",
       "    </tr>\n",
       "  </thead>\n",
       "  <tbody>\n",
       "    <tr>\n",
       "      <th>4337</th>\n",
       "      <td>c#</td>\n",
       "      <td>163396</td>\n",
       "    </tr>\n",
       "    <tr>\n",
       "      <th>18069</th>\n",
       "      <td>java</td>\n",
       "      <td>154137</td>\n",
       "    </tr>\n",
       "    <tr>\n",
       "      <th>27249</th>\n",
       "      <td>php</td>\n",
       "      <td>118622</td>\n",
       "    </tr>\n",
       "    <tr>\n",
       "      <th>18157</th>\n",
       "      <td>javascript</td>\n",
       "      <td>108356</td>\n",
       "    </tr>\n",
       "    <tr>\n",
       "      <th>1234</th>\n",
       "      <td>android</td>\n",
       "      <td>96272</td>\n",
       "    </tr>\n",
       "    <tr>\n",
       "      <th>18608</th>\n",
       "      <td>jquery</td>\n",
       "      <td>81494</td>\n",
       "    </tr>\n",
       "    <tr>\n",
       "      <th>4346</th>\n",
       "      <td>c++</td>\n",
       "      <td>80126</td>\n",
       "    </tr>\n",
       "    <tr>\n",
       "      <th>22</th>\n",
       "      <td>.net</td>\n",
       "      <td>67171</td>\n",
       "    </tr>\n",
       "    <tr>\n",
       "      <th>29101</th>\n",
       "      <td>python</td>\n",
       "      <td>67033</td>\n",
       "    </tr>\n",
       "    <tr>\n",
       "      <th>17643</th>\n",
       "      <td>iphone</td>\n",
       "      <td>62965</td>\n",
       "    </tr>\n",
       "  </tbody>\n",
       "</table>\n",
       "</div>"
      ],
      "text/plain": [
       "              col   count\n",
       "4337           c#  163396\n",
       "18069        java  154137\n",
       "27249         php  118622\n",
       "18157  javascript  108356\n",
       "1234      android   96272\n",
       "18608      jquery   81494\n",
       "4346          c++   80126\n",
       "22           .net   67171\n",
       "29101      python   67033\n",
       "17643      iphone   62965"
      ]
     },
     "execution_count": 38,
     "metadata": {
      "tags": []
     },
     "output_type": "execute_result"
    }
   ],
   "source": [
    "tag_df_sorted[:10]"
   ]
  },
  {
   "cell_type": "markdown",
   "metadata": {
    "colab_type": "text",
    "id": "Nn3T16_LlcyR"
   },
   "source": [
    "**Observation**\n",
    "\n",
    "\n",
    "1.   Top ten tags were related to programming languages,so most of the questions in the stackoverflow website were related to programming languages. \n",
    "\n"
   ]
  },
  {
   "cell_type": "code",
   "execution_count": 0,
   "metadata": {
    "colab": {},
    "colab_type": "code",
    "id": "EEr0rRfcEpY4"
   },
   "outputs": [],
   "source": [
    "df_d_lim=df_d.sample(n=500000)"
   ]
  },
  {
   "cell_type": "code",
   "execution_count": 0,
   "metadata": {
    "colab": {},
    "colab_type": "code",
    "id": "sMAmshAFEpso"
   },
   "outputs": [],
   "source": [
    "df_d_lim_pre=df_d_lim[['Title','Body','Tags']]"
   ]
  },
  {
   "cell_type": "code",
   "execution_count": 41,
   "metadata": {
    "colab": {
     "base_uri": "https://localhost:8080/",
     "height": 293
    },
    "colab_type": "code",
    "id": "J1yrc0A95zrC",
    "outputId": "c9b40b32-c0be-464c-f9ae-51ca10bd564b"
   },
   "outputs": [
    {
     "data": {
      "text/html": [
       "<div>\n",
       "<style scoped>\n",
       "    .dataframe tbody tr th:only-of-type {\n",
       "        vertical-align: middle;\n",
       "    }\n",
       "\n",
       "    .dataframe tbody tr th {\n",
       "        vertical-align: top;\n",
       "    }\n",
       "\n",
       "    .dataframe thead th {\n",
       "        text-align: right;\n",
       "    }\n",
       "</style>\n",
       "<table border=\"1\" class=\"dataframe\">\n",
       "  <thead>\n",
       "    <tr style=\"text-align: right;\">\n",
       "      <th></th>\n",
       "      <th>Title</th>\n",
       "      <th>Body</th>\n",
       "      <th>Tags</th>\n",
       "    </tr>\n",
       "  </thead>\n",
       "  <tbody>\n",
       "    <tr>\n",
       "      <th>2593497</th>\n",
       "      <td>Quick Question About NSFetchRequest and Relati...</td>\n",
       "      <td>&lt;p&gt;In my Core Data model, I have an entity Ses...</td>\n",
       "      <td>iphone objective-c xcode nsfetchedresultscontr...</td>\n",
       "    </tr>\n",
       "    <tr>\n",
       "      <th>4147004</th>\n",
       "      <td>update Window media player Param</td>\n",
       "      <td>&lt;p&gt;I added a WMP to my page as follow:&lt;/p&gt;\\n\\n...</td>\n",
       "      <td>jquery wmp</td>\n",
       "    </tr>\n",
       "    <tr>\n",
       "      <th>769195</th>\n",
       "      <td>Django: Filter for many to many field gives to...</td>\n",
       "      <td>&lt;p&gt;have the following four models&lt;/p&gt;\\n\\n&lt;p&gt;&lt;s...</td>\n",
       "      <td>python django query many-to-many</td>\n",
       "    </tr>\n",
       "    <tr>\n",
       "      <th>998832</th>\n",
       "      <td>Force context menu to appear for form inputs</td>\n",
       "      <td>&lt;p&gt;I'm trying to develop a ff addon that allow...</td>\n",
       "      <td>firefox firefox-addon firefox-addon-sdk</td>\n",
       "    </tr>\n",
       "    <tr>\n",
       "      <th>4117736</th>\n",
       "      <td>structure of modules over $\\mathbb{Z}^n$</td>\n",
       "      <td>&lt;p&gt;As we know, there's a structure theorem for...</td>\n",
       "      <td>ring-theory modules</td>\n",
       "    </tr>\n",
       "  </tbody>\n",
       "</table>\n",
       "</div>"
      ],
      "text/plain": [
       "                                                     Title  ...                                               Tags\n",
       "2593497  Quick Question About NSFetchRequest and Relati...  ...  iphone objective-c xcode nsfetchedresultscontr...\n",
       "4147004                   update Window media player Param  ...                                         jquery wmp\n",
       "769195   Django: Filter for many to many field gives to...  ...                   python django query many-to-many\n",
       "998832        Force context menu to appear for form inputs  ...            firefox firefox-addon firefox-addon-sdk\n",
       "4117736           structure of modules over $\\mathbb{Z}^n$  ...                                ring-theory modules\n",
       "\n",
       "[5 rows x 3 columns]"
      ]
     },
     "execution_count": 41,
     "metadata": {
      "tags": []
     },
     "output_type": "execute_result"
    }
   ],
   "source": [
    "df_d_lim_pre.head()"
   ]
  },
  {
   "cell_type": "markdown",
   "metadata": {
    "colab_type": "text",
    "id": "LHjbdx_uneZB"
   },
   "source": [
    "**Data cleaning**\n",
    "\n",
    "\n",
    "1.   Removing html tags.\n",
    "2.   Removing stop words.\n",
    "3.   Convert all the characters into small letters.\n",
    "4.   Use SnowballStemmer to stem the words.\n",
    "5.   Remove code snippets from the body.\n",
    "6.   Concatenate title and body into single column.\n",
    "\n"
   ]
  },
  {
   "cell_type": "code",
   "execution_count": 42,
   "metadata": {
    "colab": {
     "base_uri": "https://localhost:8080/",
     "height": 228
    },
    "colab_type": "code",
    "id": "WW53fePu5J5K",
    "outputId": "6f89a5b0-a9f1-4aac-a880-e4a6a8f379e0"
   },
   "outputs": [
    {
     "name": "stderr",
     "output_type": "stream",
     "text": [
      "/usr/local/lib/python3.6/dist-packages/ipykernel_launcher.py:7: SettingWithCopyWarning: \n",
      "A value is trying to be set on a copy of a slice from a DataFrame.\n",
      "Try using .loc[row_indexer,col_indexer] = value instead\n",
      "\n",
      "See the caveats in the documentation: http://pandas.pydata.org/pandas-docs/stable/indexing.html#indexing-view-versus-copy\n",
      "  import sys\n",
      "/usr/local/lib/python3.6/dist-packages/ipykernel_launcher.py:20: SettingWithCopyWarning: \n",
      "A value is trying to be set on a copy of a slice from a DataFrame.\n",
      "Try using .loc[row_indexer,col_indexer] = value instead\n",
      "\n",
      "See the caveats in the documentation: http://pandas.pydata.org/pandas-docs/stable/indexing.html#indexing-view-versus-copy\n"
     ]
    }
   ],
   "source": [
    "def striphtml(data):\n",
    "    cleanr = re.compile('<.*?>')\n",
    "    cleantext = re.sub(cleanr, ' ', str(data))\n",
    "    return cleantext\n",
    "stop_words = set(stopwords.words('english'))\n",
    "stemmer = SnowballStemmer(\"english\")\n",
    "df_d_lim_pre['final']=''\n",
    "temp_l=[]\n",
    "for i in range(len(df_d_lim_pre)): \n",
    "  temp=df_d_lim_pre.iloc[i,1]\n",
    "  title=df_d_lim_pre.iloc[i,0]\n",
    "  temp=re.sub('<code>(.*?)</code>', '',temp, flags=re.MULTILINE|re.DOTALL)\n",
    "  temp=striphtml(temp.encode('utf-8'))\n",
    "  title=title.encode('utf-8')\n",
    "  temp=str(title)+\" \"+str(temp)\n",
    "  temp=re.sub(r'[^A-Za-z]+',' ',temp)\n",
    "  words=word_tokenize(str(temp.lower()))\n",
    "  temp=' '.join(str(stemmer.stem(j)) for j in words if j not in stop_words and (len(j)!=1 or j=='c'))\n",
    "  temp_l.append(temp)\n",
    "df_d_lim_pre['final']=temp_l\n"
   ]
  },
  {
   "cell_type": "code",
   "execution_count": 0,
   "metadata": {
    "colab": {},
    "colab_type": "code",
    "id": "-sDWO1x-eHos"
   },
   "outputs": [],
   "source": [
    "new_df=df_d_lim_pre[['final','Tags']]"
   ]
  },
  {
   "cell_type": "code",
   "execution_count": 0,
   "metadata": {
    "colab": {
     "base_uri": "https://localhost:8080/",
     "height": 34
    },
    "colab_type": "code",
    "id": "n_ZBxQnueHyI",
    "outputId": "92059891-be3c-4377-ab04-9cd4eb802b37"
   },
   "outputs": [
    {
     "data": {
      "text/plain": [
       "(500000, 2)"
      ]
     },
     "execution_count": 15,
     "metadata": {
      "tags": []
     },
     "output_type": "execute_result"
    }
   ],
   "source": [
    "new_df.shape"
   ]
  },
  {
   "cell_type": "code",
   "execution_count": 0,
   "metadata": {
    "colab": {
     "base_uri": "https://localhost:8080/",
     "height": 206
    },
    "colab_type": "code",
    "id": "JsGOC88Fdqsv",
    "outputId": "71e19e82-7910-4541-f414-7142eff68f91"
   },
   "outputs": [
    {
     "data": {
      "text/html": [
       "<div>\n",
       "<style scoped>\n",
       "    .dataframe tbody tr th:only-of-type {\n",
       "        vertical-align: middle;\n",
       "    }\n",
       "\n",
       "    .dataframe tbody tr th {\n",
       "        vertical-align: top;\n",
       "    }\n",
       "\n",
       "    .dataframe thead th {\n",
       "        text-align: right;\n",
       "    }\n",
       "</style>\n",
       "<table border=\"1\" class=\"dataframe\">\n",
       "  <thead>\n",
       "    <tr style=\"text-align: right;\">\n",
       "      <th></th>\n",
       "      <th>final</th>\n",
       "      <th>Tags</th>\n",
       "    </tr>\n",
       "  </thead>\n",
       "  <tbody>\n",
       "    <tr>\n",
       "      <th>4044210</th>\n",
       "      <td>python write file keep get write close file er...</td>\n",
       "      <td>python</td>\n",
       "    </tr>\n",
       "    <tr>\n",
       "      <th>477329</th>\n",
       "      <td>casperj phantomj access anchor href javascript...</td>\n",
       "      <td>javascript events href phantomjs casperjs</td>\n",
       "    </tr>\n",
       "    <tr>\n",
       "      <th>1607821</th>\n",
       "      <td>observ custom object chang even extend let say...</td>\n",
       "      <td>java inheritance fields onchange listeners</td>\n",
       "    </tr>\n",
       "    <tr>\n",
       "      <th>2778595</th>\n",
       "      <td>stathread main method want appli stathread att...</td>\n",
       "      <td>c#</td>\n",
       "    </tr>\n",
       "    <tr>\n",
       "      <th>2431386</th>\n",
       "      <td>page stretch amaz titl basic explain page clie...</td>\n",
       "      <td>html frontend web-frontend</td>\n",
       "    </tr>\n",
       "  </tbody>\n",
       "</table>\n",
       "</div>"
      ],
      "text/plain": [
       "                                                     final                                        Tags\n",
       "4044210  python write file keep get write close file er...                                      python\n",
       "477329   casperj phantomj access anchor href javascript...   javascript events href phantomjs casperjs\n",
       "1607821  observ custom object chang even extend let say...  java inheritance fields onchange listeners\n",
       "2778595  stathread main method want appli stathread att...                                          c#\n",
       "2431386  page stretch amaz titl basic explain page clie...                  html frontend web-frontend"
      ]
     },
     "execution_count": 71,
     "metadata": {
      "tags": []
     },
     "output_type": "execute_result"
    }
   ],
   "source": [
    "new_df.head()"
   ]
  },
  {
   "cell_type": "code",
   "execution_count": 0,
   "metadata": {
    "colab": {},
    "colab_type": "code",
    "id": "sTBCzU_78qs-"
   },
   "outputs": [],
   "source": [
    "new_df.to_csv('/content/drive/My Drive/stackoverflow/temp2.csv')"
   ]
  },
  {
   "cell_type": "code",
   "execution_count": 0,
   "metadata": {
    "colab": {},
    "colab_type": "code",
    "id": "eNmMIdps8wDU"
   },
   "outputs": [],
   "source": [
    "new_df=pd.read_csv('/content/drive/My Drive/stackoverflow/temp2.csv')"
   ]
  },
  {
   "cell_type": "markdown",
   "metadata": {
    "colab_type": "text",
    "id": "kzjjHihxogYF"
   },
   "source": [
    "**Considering computational limitation sampled only 50000 questions**"
   ]
  },
  {
   "cell_type": "code",
   "execution_count": 0,
   "metadata": {
    "colab": {},
    "colab_type": "code",
    "id": "d3-gMJSMcwgF"
   },
   "outputs": [],
   "source": [
    "new_df2=new_df.sample(n=50000)"
   ]
  },
  {
   "cell_type": "markdown",
   "metadata": {
    "colab_type": "text",
    "id": "ROziMn_xo_5t"
   },
   "source": [
    "***Spliting the data into train and test(80:20)***"
   ]
  },
  {
   "cell_type": "code",
   "execution_count": 0,
   "metadata": {
    "colab": {},
    "colab_type": "code",
    "id": "bY2WTwum9Lpp"
   },
   "outputs": [],
   "source": [
    "xTrain, xTest= train_test_split(new_df2.values,test_size = 0.2, random_state = 0)"
   ]
  },
  {
   "cell_type": "code",
   "execution_count": 46,
   "metadata": {
    "colab": {
     "base_uri": "https://localhost:8080/",
     "height": 34
    },
    "colab_type": "code",
    "id": "1ri29AvcR-bx",
    "outputId": "7fa148e9-5962-466e-d1a4-37cf1da3a69f"
   },
   "outputs": [
    {
     "data": {
      "text/plain": [
       "(40000, 2)"
      ]
     },
     "execution_count": 46,
     "metadata": {
      "tags": []
     },
     "output_type": "execute_result"
    }
   ],
   "source": [
    "xTrain.shape"
   ]
  },
  {
   "cell_type": "code",
   "execution_count": 0,
   "metadata": {
    "colab": {},
    "colab_type": "code",
    "id": "ArJ5pB8ej4x0"
   },
   "outputs": [],
   "source": [
    "YTRAIN=xTrain[:,2]\n",
    "YTEST=xTest[:,2]\n",
    "XTRAIN=xTrain[:,1]\n",
    "XTEST=xTest[:,1]"
   ]
  },
  {
   "cell_type": "markdown",
   "metadata": {
    "colab_type": "text",
    "id": "V7qE_GKtq41k"
   },
   "source": [
    "**Using tfidf converted that text data present in train and test to numeric data**"
   ]
  },
  {
   "cell_type": "code",
   "execution_count": 0,
   "metadata": {
    "colab": {},
    "colab_type": "code",
    "id": "2zCDE6MvvZFw"
   },
   "outputs": [],
   "source": [
    "vectorizer = TfidfVectorizer(min_df=0.00009, max_features=60000, smooth_idf=True,norm='l2',ngram_range=(1,3))\n",
    "x_train_multilabel = vectorizer.fit_transform(XTRAIN)\n",
    "x_test_multilabel = vectorizer.transform(XTEST)"
   ]
  },
  {
   "cell_type": "markdown",
   "metadata": {
    "colab_type": "text",
    "id": "t4pGN-QFsRM9"
   },
   "source": [
    "**Analysis on the tags present in train data which is 40000 questions.**"
   ]
  },
  {
   "cell_type": "code",
   "execution_count": 0,
   "metadata": {
    "colab": {},
    "colab_type": "code",
    "id": "ln0mXrX8KCZQ"
   },
   "outputs": [],
   "source": [
    "vectorizer1 = CountVectorizer(tokenizer = lambda x: x.split(), binary='true')\n",
    "YTRAIN_NEW = vectorizer1.fit_transform(YTRAIN)"
   ]
  },
  {
   "cell_type": "code",
   "execution_count": 0,
   "metadata": {
    "colab": {},
    "colab_type": "code",
    "id": "TBmITlhRYf2I"
   },
   "outputs": [],
   "source": [
    "abc=vectorizer1.get_feature_names()"
   ]
  },
  {
   "cell_type": "code",
   "execution_count": 50,
   "metadata": {
    "colab": {
     "base_uri": "https://localhost:8080/",
     "height": 191
    },
    "colab_type": "code",
    "id": "kPwl78tVdCM4",
    "outputId": "c5054384-4047-4e85-cf2c-260a8d693002"
   },
   "outputs": [
    {
     "data": {
      "text/plain": [
       "['.app',\n",
       " '.bash-profile',\n",
       " '.exe',\n",
       " '.htaccess',\n",
       " '.htpasswd',\n",
       " '.lib',\n",
       " '.mov',\n",
       " '.net',\n",
       " '.net-1.1',\n",
       " '.net-2.0']"
      ]
     },
     "execution_count": 50,
     "metadata": {
      "tags": []
     },
     "output_type": "execute_result"
    }
   ],
   "source": [
    "abc[:10]"
   ]
  },
  {
   "cell_type": "code",
   "execution_count": 13,
   "metadata": {
    "colab": {
     "base_uri": "https://localhost:8080/",
     "height": 34
    },
    "colab_type": "code",
    "id": "TX6C70pqYttl",
    "outputId": "35b1bf15-58d7-45e5-96cd-8d7dc20c2266"
   },
   "outputs": [
    {
     "name": "stdout",
     "output_type": "stream",
     "text": [
      "Total number of unique tags present in train data : 12648\n"
     ]
    }
   ],
   "source": [
    "print(\"Total number of unique tags present in train data :\",len(abc))"
   ]
  },
  {
   "cell_type": "markdown",
   "metadata": {
    "colab_type": "text",
    "id": "E7MyP346swBR"
   },
   "source": [
    "**If we consider all the tags ppresent in train data then we have to train nearly 12580 models on complete which is not computationally efficient, so we are compromising on the number tags based on the partial coverage of the questions.**"
   ]
  },
  {
   "cell_type": "code",
   "execution_count": 0,
   "metadata": {
    "colab": {},
    "colab_type": "code",
    "id": "4FpCnwWp4rBU"
   },
   "outputs": [],
   "source": [
    "def top_tags(n):\n",
    "    t=YTRAIN_NEW.sum(axis=0).tolist()[0]\n",
    "    tags=sorted(range(len(t)), key=lambda i: t[i], reverse=True)\n",
    "    tags_sel=YTRAIN_NEW[:,tags[:n]]\n",
    "    return (tags_sel,[abc[i] for i in tags[:n]])\n",
    "\n",
    "def partial_coverage(n):\n",
    "    tags_matrix,_ = top_tags(n)\n",
    "    x=tags_matrix.sum(axis=1)\n",
    "    return (np.count_nonzero(x==0))"
   ]
  },
  {
   "cell_type": "code",
   "execution_count": 0,
   "metadata": {
    "colab": {},
    "colab_type": "code",
    "id": "tF98fE9zEqiu"
   },
   "outputs": [],
   "source": [
    "percentage_of_questions= []\n",
    "total_tags=YTRAIN_NEW.shape[1]\n",
    "total_qs=XTRAIN.shape[0]\n",
    "for i in range(500, total_tags,100):\n",
    "    percentage_of_questions.append(np.round(((total_qs-partial_coverage(i))/total_qs)*100,3))"
   ]
  },
  {
   "cell_type": "code",
   "execution_count": 53,
   "metadata": {
    "colab": {
     "base_uri": "https://localhost:8080/",
     "height": 1000
    },
    "colab_type": "code",
    "id": "GfW1dYurOzG3",
    "outputId": "184e1a53-cb33-4645-997a-d97149764326"
   },
   "outputs": [
    {
     "name": "stdout",
     "output_type": "stream",
     "text": [
      "with  500 tags we are covering  90.325 % of questions\n",
      "with  600 tags we are covering  91.59 % of questions\n",
      "with  700 tags we are covering  92.558 % of questions\n",
      "with  800 tags we are covering  93.282 % of questions\n",
      "with  900 tags we are covering  93.848 % of questions\n",
      "with  1000 tags we are covering  94.375 % of questions\n",
      "with  1100 tags we are covering  94.812 % of questions\n",
      "with  1200 tags we are covering  95.19 % of questions\n",
      "with  1300 tags we are covering  95.5 % of questions\n",
      "with  1400 tags we are covering  95.78 % of questions\n",
      "with  1500 tags we are covering  96.083 % of questions\n",
      "with  1600 tags we are covering  96.28 % of questions\n",
      "with  1700 tags we are covering  96.48 % of questions\n",
      "with  1800 tags we are covering  96.68 % of questions\n",
      "with  1900 tags we are covering  96.815 % of questions\n",
      "with  2000 tags we are covering  96.962 % of questions\n",
      "with  2100 tags we are covering  97.098 % of questions\n",
      "with  2200 tags we are covering  97.288 % of questions\n",
      "with  2300 tags we are covering  97.41 % of questions\n",
      "with  2400 tags we are covering  97.568 % of questions\n",
      "with  2500 tags we are covering  97.7 % of questions\n",
      "with  2600 tags we are covering  97.768 % of questions\n",
      "with  2700 tags we are covering  97.812 % of questions\n",
      "with  2800 tags we are covering  97.93 % of questions\n",
      "with  2900 tags we are covering  98.012 % of questions\n",
      "with  3000 tags we are covering  98.112 % of questions\n",
      "with  3100 tags we are covering  98.16 % of questions\n",
      "with  3200 tags we are covering  98.23 % of questions\n",
      "with  3300 tags we are covering  98.28 % of questions\n",
      "with  3400 tags we are covering  98.352 % of questions\n",
      "with  3500 tags we are covering  98.42 % of questions\n",
      "with  3600 tags we are covering  98.468 % of questions\n",
      "with  3700 tags we are covering  98.52 % of questions\n",
      "with  3800 tags we are covering  98.605 % of questions\n",
      "with  3900 tags we are covering  98.64 % of questions\n",
      "with  4000 tags we are covering  98.682 % of questions\n",
      "with  4100 tags we are covering  98.728 % of questions\n",
      "with  4200 tags we are covering  98.762 % of questions\n",
      "with  4300 tags we are covering  98.81 % of questions\n",
      "with  4400 tags we are covering  98.852 % of questions\n",
      "with  4500 tags we are covering  98.893 % of questions\n",
      "with  4600 tags we are covering  98.945 % of questions\n",
      "with  4700 tags we are covering  98.985 % of questions\n",
      "with  4800 tags we are covering  99.008 % of questions\n",
      "with  4900 tags we are covering  99.018 % of questions\n",
      "with  5000 tags we are covering  99.05 % of questions\n",
      "with  5100 tags we are covering  99.085 % of questions\n",
      "with  5200 tags we are covering  99.128 % of questions\n",
      "with  5300 tags we are covering  99.145 % of questions\n",
      "with  5400 tags we are covering  99.165 % of questions\n",
      "with  5500 tags we are covering  99.198 % of questions\n",
      "with  5600 tags we are covering  99.228 % of questions\n",
      "with  5700 tags we are covering  99.24 % of questions\n",
      "with  5800 tags we are covering  99.255 % of questions\n",
      "with  5900 tags we are covering  99.275 % of questions\n",
      "with  6000 tags we are covering  99.285 % of questions\n",
      "with  6100 tags we are covering  99.332 % of questions\n",
      "with  6200 tags we are covering  99.36 % of questions\n",
      "with  6300 tags we are covering  99.367 % of questions\n",
      "with  6400 tags we are covering  99.387 % of questions\n",
      "with  6500 tags we are covering  99.413 % of questions\n",
      "with  6600 tags we are covering  99.435 % of questions\n",
      "with  6700 tags we are covering  99.448 % of questions\n",
      "with  6800 tags we are covering  99.482 % of questions\n",
      "with  6900 tags we are covering  99.49 % of questions\n",
      "with  7000 tags we are covering  99.5 % of questions\n",
      "with  7100 tags we are covering  99.51 % of questions\n",
      "with  7200 tags we are covering  99.518 % of questions\n",
      "with  7300 tags we are covering  99.532 % of questions\n",
      "with  7400 tags we are covering  99.545 % of questions\n",
      "with  7500 tags we are covering  99.578 % of questions\n",
      "with  7600 tags we are covering  99.587 % of questions\n",
      "with  7700 tags we are covering  99.6 % of questions\n",
      "with  7800 tags we are covering  99.615 % of questions\n",
      "with  7900 tags we are covering  99.628 % of questions\n",
      "with  8000 tags we are covering  99.635 % of questions\n",
      "with  8100 tags we are covering  99.642 % of questions\n",
      "with  8200 tags we are covering  99.645 % of questions\n",
      "with  8300 tags we are covering  99.652 % of questions\n",
      "with  8400 tags we are covering  99.665 % of questions\n",
      "with  8500 tags we are covering  99.67 % of questions\n",
      "with  8600 tags we are covering  99.682 % of questions\n",
      "with  8700 tags we are covering  99.695 % of questions\n",
      "with  8800 tags we are covering  99.702 % of questions\n",
      "with  8900 tags we are covering  99.72 % of questions\n",
      "with  9000 tags we are covering  99.728 % of questions\n",
      "with  9100 tags we are covering  99.74 % of questions\n",
      "with  9200 tags we are covering  99.75 % of questions\n",
      "with  9300 tags we are covering  99.775 % of questions\n",
      "with  9400 tags we are covering  99.778 % of questions\n",
      "with  9500 tags we are covering  99.788 % of questions\n",
      "with  9600 tags we are covering  99.792 % of questions\n",
      "with  9700 tags we are covering  99.798 % of questions\n",
      "with  9800 tags we are covering  99.808 % of questions\n",
      "with  9900 tags we are covering  99.818 % of questions\n",
      "with  10000 tags we are covering  99.822 % of questions\n",
      "with  10100 tags we are covering  99.825 % of questions\n",
      "with  10200 tags we are covering  99.83 % of questions\n",
      "with  10300 tags we are covering  99.835 % of questions\n",
      "with  10400 tags we are covering  99.842 % of questions\n",
      "with  10500 tags we are covering  99.85 % of questions\n",
      "with  10600 tags we are covering  99.862 % of questions\n",
      "with  10700 tags we are covering  99.867 % of questions\n",
      "with  10800 tags we are covering  99.867 % of questions\n",
      "with  10900 tags we are covering  99.872 % of questions\n",
      "with  11000 tags we are covering  99.875 % of questions\n",
      "with  11100 tags we are covering  99.89 % of questions\n",
      "with  11200 tags we are covering  99.902 % of questions\n",
      "with  11300 tags we are covering  99.92 % of questions\n",
      "with  11400 tags we are covering  99.925 % of questions\n",
      "with  11500 tags we are covering  99.93 % of questions\n",
      "with  11600 tags we are covering  99.935 % of questions\n",
      "with  11700 tags we are covering  99.94 % of questions\n",
      "with  11800 tags we are covering  99.945 % of questions\n",
      "with  11900 tags we are covering  99.952 % of questions\n",
      "with  12000 tags we are covering  99.96 % of questions\n",
      "with  12100 tags we are covering  99.962 % of questions\n",
      "with  12200 tags we are covering  99.968 % of questions\n",
      "with  12300 tags we are covering  99.975 % of questions\n",
      "with  12400 tags we are covering  99.98 % of questions\n",
      "with  12500 tags we are covering  99.988 % of questions\n",
      "with  12600 tags we are covering  99.99 % of questions\n"
     ]
    }
   ],
   "source": [
    "for i,j in enumerate(percentage_of_questions):\n",
    "  print(\"with \",500+i*100,\"tags we are covering \",j,\"% of questions\")"
   ]
  },
  {
   "cell_type": "markdown",
   "metadata": {
    "colab_type": "text",
    "id": "gjLJlCuQz80m"
   },
   "source": [
    "**Observation**\n",
    "\n",
    "\n",
    "1.   By choosing top 500 tags we can cover 90% of the questions in train data.\n"
   ]
  },
  {
   "cell_type": "code",
   "execution_count": 0,
   "metadata": {
    "colab": {},
    "colab_type": "code",
    "id": "GuY_Fm-Sl0o2"
   },
   "outputs": [],
   "source": [
    "YTRAIN_NEW2,features= top_tags(500)"
   ]
  },
  {
   "cell_type": "code",
   "execution_count": 18,
   "metadata": {
    "colab": {
     "base_uri": "https://localhost:8080/",
     "height": 52
    },
    "colab_type": "code",
    "id": "blqCU2lS1w7J",
    "outputId": "63a5abf3-62d6-479a-d372-9d33f911d398"
   },
   "outputs": [
    {
     "data": {
      "text/plain": [
       "<40000x500 sparse matrix of type '<class 'numpy.int64'>'\n",
       "\twith 72489 stored elements in Compressed Sparse Row format>"
      ]
     },
     "execution_count": 18,
     "metadata": {
      "tags": []
     },
     "output_type": "execute_result"
    }
   ],
   "source": [
    "YTRAIN_NEW2"
   ]
  },
  {
   "cell_type": "markdown",
   "metadata": {
    "colab_type": "text",
    "id": "9U1dT0KW1fbW"
   },
   "source": [
    "**using bag of words and vocabulary as the top 500 tags choosen, convereted tags columns into sparse matrix which is suitable for modeling.**"
   ]
  },
  {
   "cell_type": "code",
   "execution_count": 55,
   "metadata": {
    "colab": {
     "base_uri": "https://localhost:8080/",
     "height": 52
    },
    "colab_type": "code",
    "id": "D_xC0ymw-7ji",
    "outputId": "b6c5f619-fb0b-43b9-9796-61c0b46a29ed"
   },
   "outputs": [
    {
     "name": "stdout",
     "output_type": "stream",
     "text": [
      "train label shape (40000, 500)\n",
      "test label shape (10000, 500)\n"
     ]
    }
   ],
   "source": [
    "vectorizer2 = CountVectorizer(vocabulary=features,binary='true')\n",
    "multilabel_y2 = vectorizer2.fit_transform(YTRAIN)\n",
    "print(\"train label shape\", multilabel_y2.shape)\n",
    "newytest= vectorizer2.transform(YTEST)\n",
    "print(\"test label shape\", newytest.shape)"
   ]
  },
  {
   "cell_type": "markdown",
   "metadata": {
    "colab_type": "text",
    "id": "bLAtC8K6bpxE"
   },
   "source": [
    "**Model imolementation(logistic regression using one vs rest)**"
   ]
  },
  {
   "cell_type": "code",
   "execution_count": 61,
   "metadata": {
    "colab": {
     "base_uri": "https://localhost:8080/",
     "height": 34
    },
    "colab_type": "code",
    "id": "HDG1GWwjEqVb",
    "outputId": "ec47d13f-1375-4993-cbee-5f373092ccf4"
   },
   "outputs": [
    {
     "name": "stdout",
     "output_type": "stream",
     "text": [
      "0.3280925541382379\n"
     ]
    }
   ],
   "source": [
    "classifier = OneVsRestClassifier(SGDClassifier(loss='log', alpha=0.0001, penalty='l1'), n_jobs=-1)\n",
    "classifier.fit(x_train_multilabel, multilabel_y2)\n",
    "predictions = classifier.predict(x_test_multilabel)\n",
    "f1 = f1_score(newytest, predictions,average='micro')\n",
    "print(f1)"
   ]
  },
  {
   "cell_type": "markdown",
   "metadata": {
    "colab_type": "text",
    "id": "aGbT3AYYr179"
   },
   "source": [
    "**HYPER PARAMETER TUNING**"
   ]
  },
  {
   "cell_type": "code",
   "execution_count": 62,
   "metadata": {
    "colab": {
     "base_uri": "https://localhost:8080/",
     "height": 1000
    },
    "colab_type": "code",
    "id": "0x6-GRnjEpcs",
    "outputId": "f20ab0a4-26df-4bdb-f440-e5a5e31adfa7"
   },
   "outputs": [
    {
     "name": "stdout",
     "output_type": "stream",
     "text": [
      "Fitting 2 folds for each of 28 candidates, totalling 56 fits\n",
      "[Parallel(n_jobs=1)]: Using backend SequentialBackend with 1 concurrent workers.\n",
      "[CV] estimator__alpha=1e-07, estimator__loss=hinge, estimator__penalty=l1 \n",
      "[CV]  estimator__alpha=1e-07, estimator__loss=hinge, estimator__penalty=l1, score=0.484, total=  48.1s\n",
      "[Parallel(n_jobs=1)]: Done   1 out of   1 | elapsed:   48.1s remaining:    0.0s\n",
      "[CV] estimator__alpha=1e-07, estimator__loss=hinge, estimator__penalty=l1 \n",
      "[CV]  estimator__alpha=1e-07, estimator__loss=hinge, estimator__penalty=l1, score=0.481, total=  47.9s\n",
      "[Parallel(n_jobs=1)]: Done   2 out of   2 | elapsed:  1.6min remaining:    0.0s\n",
      "[CV] estimator__alpha=1e-07, estimator__loss=hinge, estimator__penalty=l2 \n",
      "[CV]  estimator__alpha=1e-07, estimator__loss=hinge, estimator__penalty=l2, score=0.471, total=  25.8s\n",
      "[Parallel(n_jobs=1)]: Done   3 out of   3 | elapsed:  2.0min remaining:    0.0s\n",
      "[CV] estimator__alpha=1e-07, estimator__loss=hinge, estimator__penalty=l2 \n",
      "[CV]  estimator__alpha=1e-07, estimator__loss=hinge, estimator__penalty=l2, score=0.468, total=  25.8s\n",
      "[Parallel(n_jobs=1)]: Done   4 out of   4 | elapsed:  2.5min remaining:    0.0s\n",
      "[CV] estimator__alpha=1e-07, estimator__loss=log, estimator__penalty=l1 \n",
      "[CV]  estimator__alpha=1e-07, estimator__loss=log, estimator__penalty=l1, score=0.487, total=  56.9s\n",
      "[Parallel(n_jobs=1)]: Done   5 out of   5 | elapsed:  3.4min remaining:    0.0s\n",
      "[CV] estimator__alpha=1e-07, estimator__loss=log, estimator__penalty=l1 \n",
      "[CV]  estimator__alpha=1e-07, estimator__loss=log, estimator__penalty=l1, score=0.486, total=  56.5s\n",
      "[Parallel(n_jobs=1)]: Done   6 out of   6 | elapsed:  4.4min remaining:    0.0s\n",
      "[CV] estimator__alpha=1e-07, estimator__loss=log, estimator__penalty=l2 \n",
      "[CV]  estimator__alpha=1e-07, estimator__loss=log, estimator__penalty=l2, score=0.452, total=  35.4s\n",
      "[Parallel(n_jobs=1)]: Done   7 out of   7 | elapsed:  4.9min remaining:    0.0s\n",
      "[CV] estimator__alpha=1e-07, estimator__loss=log, estimator__penalty=l2 \n",
      "[CV]  estimator__alpha=1e-07, estimator__loss=log, estimator__penalty=l2, score=0.450, total=  35.5s\n",
      "[Parallel(n_jobs=1)]: Done   8 out of   8 | elapsed:  5.5min remaining:    0.0s\n",
      "[CV] estimator__alpha=1e-06, estimator__loss=hinge, estimator__penalty=l1 \n",
      "[CV]  estimator__alpha=1e-06, estimator__loss=hinge, estimator__penalty=l1, score=0.495, total=  44.9s\n",
      "[Parallel(n_jobs=1)]: Done   9 out of   9 | elapsed:  6.3min remaining:    0.0s\n",
      "[CV] estimator__alpha=1e-06, estimator__loss=hinge, estimator__penalty=l1 \n",
      "[CV]  estimator__alpha=1e-06, estimator__loss=hinge, estimator__penalty=l1, score=0.494, total=  44.9s\n",
      "[Parallel(n_jobs=1)]: Done  10 out of  10 | elapsed:  7.0min remaining:    0.0s\n",
      "[CV] estimator__alpha=1e-06, estimator__loss=hinge, estimator__penalty=l2 \n",
      "[CV]  estimator__alpha=1e-06, estimator__loss=hinge, estimator__penalty=l2, score=0.441, total=  24.3s\n",
      "[Parallel(n_jobs=1)]: Done  11 out of  11 | elapsed:  7.4min remaining:    0.0s\n",
      "[CV] estimator__alpha=1e-06, estimator__loss=hinge, estimator__penalty=l2 \n",
      "[CV]  estimator__alpha=1e-06, estimator__loss=hinge, estimator__penalty=l2, score=0.440, total=  24.3s\n",
      "[Parallel(n_jobs=1)]: Done  12 out of  12 | elapsed:  7.8min remaining:    0.0s\n",
      "[CV] estimator__alpha=1e-06, estimator__loss=log, estimator__penalty=l1 \n",
      "[CV]  estimator__alpha=1e-06, estimator__loss=log, estimator__penalty=l1, score=0.489, total=  53.1s\n",
      "[Parallel(n_jobs=1)]: Done  13 out of  13 | elapsed:  8.7min remaining:    0.0s\n",
      "[CV] estimator__alpha=1e-06, estimator__loss=log, estimator__penalty=l1 \n",
      "[CV]  estimator__alpha=1e-06, estimator__loss=log, estimator__penalty=l1, score=0.487, total=  52.6s\n",
      "[Parallel(n_jobs=1)]: Done  14 out of  14 | elapsed:  9.6min remaining:    0.0s\n",
      "[CV] estimator__alpha=1e-06, estimator__loss=log, estimator__penalty=l2 \n",
      "[CV]  estimator__alpha=1e-06, estimator__loss=log, estimator__penalty=l2, score=0.416, total=  34.2s\n",
      "[Parallel(n_jobs=1)]: Done  15 out of  15 | elapsed: 10.2min remaining:    0.0s\n",
      "[CV] estimator__alpha=1e-06, estimator__loss=log, estimator__penalty=l2 \n",
      "[CV]  estimator__alpha=1e-06, estimator__loss=log, estimator__penalty=l2, score=0.412, total=  34.1s\n",
      "[Parallel(n_jobs=1)]: Done  16 out of  16 | elapsed: 10.7min remaining:    0.0s\n",
      "[CV] estimator__alpha=1e-05, estimator__loss=hinge, estimator__penalty=l1 \n",
      "[CV]  estimator__alpha=1e-05, estimator__loss=hinge, estimator__penalty=l1, score=0.481, total=  40.6s\n",
      "[Parallel(n_jobs=1)]: Done  17 out of  17 | elapsed: 11.4min remaining:    0.0s\n",
      "[CV] estimator__alpha=1e-05, estimator__loss=hinge, estimator__penalty=l1 \n",
      "[CV]  estimator__alpha=1e-05, estimator__loss=hinge, estimator__penalty=l1, score=0.477, total=  40.4s\n",
      "[Parallel(n_jobs=1)]: Done  18 out of  18 | elapsed: 12.1min remaining:    0.0s\n",
      "[CV] estimator__alpha=1e-05, estimator__loss=hinge, estimator__penalty=l2 \n",
      "[CV]  estimator__alpha=1e-05, estimator__loss=hinge, estimator__penalty=l2, score=0.365, total=  24.0s\n",
      "[Parallel(n_jobs=1)]: Done  19 out of  19 | elapsed: 12.5min remaining:    0.0s\n",
      "[CV] estimator__alpha=1e-05, estimator__loss=hinge, estimator__penalty=l2 \n",
      "[CV]  estimator__alpha=1e-05, estimator__loss=hinge, estimator__penalty=l2, score=0.356, total=  24.5s\n",
      "[Parallel(n_jobs=1)]: Done  20 out of  20 | elapsed: 12.9min remaining:    0.0s\n",
      "[CV] estimator__alpha=1e-05, estimator__loss=log, estimator__penalty=l1 \n",
      "[CV]  estimator__alpha=1e-05, estimator__loss=log, estimator__penalty=l1, score=0.470, total=  51.8s\n",
      "[Parallel(n_jobs=1)]: Done  21 out of  21 | elapsed: 13.8min remaining:    0.0s\n",
      "[CV] estimator__alpha=1e-05, estimator__loss=log, estimator__penalty=l1 \n",
      "[CV]  estimator__alpha=1e-05, estimator__loss=log, estimator__penalty=l1, score=0.466, total=  52.1s\n",
      "[Parallel(n_jobs=1)]: Done  22 out of  22 | elapsed: 14.6min remaining:    0.0s\n",
      "[CV] estimator__alpha=1e-05, estimator__loss=log, estimator__penalty=l2 \n",
      "[CV]  estimator__alpha=1e-05, estimator__loss=log, estimator__penalty=l2, score=0.331, total=  34.2s\n",
      "[Parallel(n_jobs=1)]: Done  23 out of  23 | elapsed: 15.2min remaining:    0.0s\n",
      "[CV] estimator__alpha=1e-05, estimator__loss=log, estimator__penalty=l2 \n",
      "[CV]  estimator__alpha=1e-05, estimator__loss=log, estimator__penalty=l2, score=0.325, total=  34.3s\n",
      "[Parallel(n_jobs=1)]: Done  24 out of  24 | elapsed: 15.8min remaining:    0.0s\n",
      "[CV] estimator__alpha=0.0001, estimator__loss=hinge, estimator__penalty=l1 \n",
      "[CV]  estimator__alpha=0.0001, estimator__loss=hinge, estimator__penalty=l1, score=0.358, total=  34.2s\n",
      "[Parallel(n_jobs=1)]: Done  25 out of  25 | elapsed: 16.3min remaining:    0.0s\n",
      "[CV] estimator__alpha=0.0001, estimator__loss=hinge, estimator__penalty=l1 \n",
      "[CV]  estimator__alpha=0.0001, estimator__loss=hinge, estimator__penalty=l1, score=0.361, total=  34.1s\n",
      "[Parallel(n_jobs=1)]: Done  26 out of  26 | elapsed: 16.9min remaining:    0.0s\n",
      "[CV] estimator__alpha=0.0001, estimator__loss=hinge, estimator__penalty=l2 \n",
      "[CV]  estimator__alpha=0.0001, estimator__loss=hinge, estimator__penalty=l2, score=0.222, total=  22.9s\n",
      "[Parallel(n_jobs=1)]: Done  27 out of  27 | elapsed: 17.3min remaining:    0.0s\n",
      "[CV] estimator__alpha=0.0001, estimator__loss=hinge, estimator__penalty=l2 \n",
      "[CV]  estimator__alpha=0.0001, estimator__loss=hinge, estimator__penalty=l2, score=0.222, total=  22.9s\n",
      "[Parallel(n_jobs=1)]: Done  28 out of  28 | elapsed: 17.7min remaining:    0.0s\n",
      "[CV] estimator__alpha=0.0001, estimator__loss=log, estimator__penalty=l1 \n",
      "[CV]  estimator__alpha=0.0001, estimator__loss=log, estimator__penalty=l1, score=0.306, total=  50.2s\n",
      "[Parallel(n_jobs=1)]: Done  29 out of  29 | elapsed: 18.5min remaining:    0.0s\n",
      "[CV] estimator__alpha=0.0001, estimator__loss=log, estimator__penalty=l1 \n",
      "[CV]  estimator__alpha=0.0001, estimator__loss=log, estimator__penalty=l1, score=0.307, total=  50.2s\n",
      "[Parallel(n_jobs=1)]: Done  30 out of  30 | elapsed: 19.4min remaining:    0.0s\n",
      "[CV] estimator__alpha=0.0001, estimator__loss=log, estimator__penalty=l2 \n",
      "[CV]  estimator__alpha=0.0001, estimator__loss=log, estimator__penalty=l2, score=0.100, total=  33.6s\n",
      "[Parallel(n_jobs=1)]: Done  31 out of  31 | elapsed: 19.9min remaining:    0.0s\n",
      "[CV] estimator__alpha=0.0001, estimator__loss=log, estimator__penalty=l2 \n",
      "[CV]  estimator__alpha=0.0001, estimator__loss=log, estimator__penalty=l2, score=0.098, total=  33.3s\n",
      "[Parallel(n_jobs=1)]: Done  32 out of  32 | elapsed: 20.5min remaining:    0.0s\n",
      "[CV] estimator__alpha=0.001, estimator__loss=hinge, estimator__penalty=l1 \n",
      "[CV]  estimator__alpha=0.001, estimator__loss=hinge, estimator__penalty=l1, score=0.125, total=  34.1s\n",
      "[Parallel(n_jobs=1)]: Done  33 out of  33 | elapsed: 21.0min remaining:    0.0s\n",
      "[CV] estimator__alpha=0.001, estimator__loss=hinge, estimator__penalty=l1 \n",
      "[CV]  estimator__alpha=0.001, estimator__loss=hinge, estimator__penalty=l1, score=0.123, total=  33.9s\n",
      "[Parallel(n_jobs=1)]: Done  34 out of  34 | elapsed: 21.6min remaining:    0.0s\n",
      "[CV] estimator__alpha=0.001, estimator__loss=hinge, estimator__penalty=l2 \n",
      "[CV]  estimator__alpha=0.001, estimator__loss=hinge, estimator__penalty=l2, score=0.004, total=  22.3s\n",
      "[Parallel(n_jobs=1)]: Done  35 out of  35 | elapsed: 22.0min remaining:    0.0s\n",
      "[CV] estimator__alpha=0.001, estimator__loss=hinge, estimator__penalty=l2 \n",
      "[CV]  estimator__alpha=0.001, estimator__loss=hinge, estimator__penalty=l2, score=0.005, total=  21.9s\n",
      "[Parallel(n_jobs=1)]: Done  36 out of  36 | elapsed: 22.3min remaining:    0.0s\n",
      "[CV] estimator__alpha=0.001, estimator__loss=log, estimator__penalty=l1 \n",
      "[CV]  estimator__alpha=0.001, estimator__loss=log, estimator__penalty=l1, score=0.034, total= 1.0min\n",
      "[Parallel(n_jobs=1)]: Done  37 out of  37 | elapsed: 23.3min remaining:    0.0s\n",
      "[CV] estimator__alpha=0.001, estimator__loss=log, estimator__penalty=l1 \n",
      "[CV]  estimator__alpha=0.001, estimator__loss=log, estimator__penalty=l1, score=0.035, total= 1.0min\n",
      "[Parallel(n_jobs=1)]: Done  38 out of  38 | elapsed: 24.4min remaining:    0.0s\n",
      "[CV] estimator__alpha=0.001, estimator__loss=log, estimator__penalty=l2 \n"
     ]
    },
    {
     "name": "stderr",
     "output_type": "stream",
     "text": [
      "/usr/local/lib/python3.6/dist-packages/sklearn/metrics/classification.py:1437: UndefinedMetricWarning: F-score is ill-defined and being set to 0.0 due to no predicted samples.\n",
      "  'precision', 'predicted', average, warn_for)\n"
     ]
    },
    {
     "name": "stdout",
     "output_type": "stream",
     "text": [
      "[CV]  estimator__alpha=0.001, estimator__loss=log, estimator__penalty=l2, score=0.000, total=  38.6s\n",
      "[Parallel(n_jobs=1)]: Done  39 out of  39 | elapsed: 25.0min remaining:    0.0s\n",
      "[CV] estimator__alpha=0.001, estimator__loss=log, estimator__penalty=l2 \n",
      "[CV]  estimator__alpha=0.001, estimator__loss=log, estimator__penalty=l2, score=0.000, total=  38.7s\n",
      "[Parallel(n_jobs=1)]: Done  40 out of  40 | elapsed: 25.6min remaining:    0.0s\n",
      "[CV] estimator__alpha=0.01, estimator__loss=hinge, estimator__penalty=l1 \n",
      "[CV]  estimator__alpha=0.01, estimator__loss=hinge, estimator__penalty=l1, score=0.000, total=  33.3s\n",
      "[Parallel(n_jobs=1)]: Done  41 out of  41 | elapsed: 26.2min remaining:    0.0s\n",
      "[CV] estimator__alpha=0.01, estimator__loss=hinge, estimator__penalty=l1 \n",
      "[CV]  estimator__alpha=0.01, estimator__loss=hinge, estimator__penalty=l1, score=0.000, total=  33.5s\n",
      "[Parallel(n_jobs=1)]: Done  42 out of  42 | elapsed: 26.8min remaining:    0.0s\n",
      "[CV] estimator__alpha=0.01, estimator__loss=hinge, estimator__penalty=l2 \n",
      "[CV]  estimator__alpha=0.01, estimator__loss=hinge, estimator__penalty=l2, score=0.000, total=  21.6s\n",
      "[Parallel(n_jobs=1)]: Done  43 out of  43 | elapsed: 27.1min remaining:    0.0s\n",
      "[CV] estimator__alpha=0.01, estimator__loss=hinge, estimator__penalty=l2 \n",
      "[CV]  estimator__alpha=0.01, estimator__loss=hinge, estimator__penalty=l2, score=0.000, total=  21.8s\n",
      "[Parallel(n_jobs=1)]: Done  44 out of  44 | elapsed: 27.5min remaining:    0.0s\n",
      "[CV] estimator__alpha=0.01, estimator__loss=log, estimator__penalty=l1 \n",
      "[CV]  estimator__alpha=0.01, estimator__loss=log, estimator__penalty=l1, score=0.000, total= 1.7min\n",
      "[Parallel(n_jobs=1)]: Done  45 out of  45 | elapsed: 29.2min remaining:    0.0s\n",
      "[CV] estimator__alpha=0.01, estimator__loss=log, estimator__penalty=l1 \n",
      "[CV]  estimator__alpha=0.01, estimator__loss=log, estimator__penalty=l1, score=0.000, total= 1.7min\n",
      "[Parallel(n_jobs=1)]: Done  46 out of  46 | elapsed: 31.0min remaining:    0.0s\n",
      "[CV] estimator__alpha=0.01, estimator__loss=log, estimator__penalty=l2 \n",
      "[CV]  estimator__alpha=0.01, estimator__loss=log, estimator__penalty=l2, score=0.000, total= 1.0min\n",
      "[Parallel(n_jobs=1)]: Done  47 out of  47 | elapsed: 32.0min remaining:    0.0s\n",
      "[CV] estimator__alpha=0.01, estimator__loss=log, estimator__penalty=l2 \n",
      "[CV]  estimator__alpha=0.01, estimator__loss=log, estimator__penalty=l2, score=0.000, total= 1.0min\n",
      "[Parallel(n_jobs=1)]: Done  48 out of  48 | elapsed: 33.0min remaining:    0.0s\n",
      "[CV] estimator__alpha=0.1, estimator__loss=hinge, estimator__penalty=l1 \n",
      "[CV]  estimator__alpha=0.1, estimator__loss=hinge, estimator__penalty=l1, score=0.000, total= 1.0min\n",
      "[Parallel(n_jobs=1)]: Done  49 out of  49 | elapsed: 34.0min remaining:    0.0s\n",
      "[CV] estimator__alpha=0.1, estimator__loss=hinge, estimator__penalty=l1 \n",
      "[CV]  estimator__alpha=0.1, estimator__loss=hinge, estimator__penalty=l1, score=0.000, total= 1.1min\n",
      "[Parallel(n_jobs=1)]: Done  50 out of  50 | elapsed: 35.1min remaining:    0.0s\n",
      "[CV] estimator__alpha=0.1, estimator__loss=hinge, estimator__penalty=l2 \n",
      "[CV]  estimator__alpha=0.1, estimator__loss=hinge, estimator__penalty=l2, score=0.000, total=  35.7s\n",
      "[Parallel(n_jobs=1)]: Done  51 out of  51 | elapsed: 35.7min remaining:    0.0s\n",
      "[CV] estimator__alpha=0.1, estimator__loss=hinge, estimator__penalty=l2 \n",
      "[CV]  estimator__alpha=0.1, estimator__loss=hinge, estimator__penalty=l2, score=0.000, total=  35.3s\n",
      "[Parallel(n_jobs=1)]: Done  52 out of  52 | elapsed: 36.3min remaining:    0.0s\n",
      "[CV] estimator__alpha=0.1, estimator__loss=log, estimator__penalty=l1 \n",
      "[CV]  estimator__alpha=0.1, estimator__loss=log, estimator__penalty=l1, score=0.000, total= 1.9min\n",
      "[Parallel(n_jobs=1)]: Done  53 out of  53 | elapsed: 38.2min remaining:    0.0s\n",
      "[CV] estimator__alpha=0.1, estimator__loss=log, estimator__penalty=l1 \n",
      "[CV]  estimator__alpha=0.1, estimator__loss=log, estimator__penalty=l1, score=0.000, total= 1.9min\n",
      "[CV] estimator__alpha=0.1, estimator__loss=log, estimator__penalty=l2 \n",
      "[CV]  estimator__alpha=0.1, estimator__loss=log, estimator__penalty=l2, score=0.000, total= 1.1min\n",
      "[CV] estimator__alpha=0.1, estimator__loss=log, estimator__penalty=l2 \n",
      "[CV]  estimator__alpha=0.1, estimator__loss=log, estimator__penalty=l2, score=0.000, total= 1.1min\n",
      "[Parallel(n_jobs=1)]: Done  56 out of  56 | elapsed: 42.3min finished\n"
     ]
    },
    {
     "data": {
      "text/plain": [
       "GridSearchCV(cv=2, error_score='raise-deprecating',\n",
       "             estimator=OneVsRestClassifier(estimator=SGDClassifier(alpha=0.0001,\n",
       "                                                                   average=False,\n",
       "                                                                   class_weight=None,\n",
       "                                                                   early_stopping=False,\n",
       "                                                                   epsilon=0.1,\n",
       "                                                                   eta0=0.0,\n",
       "                                                                   fit_intercept=True,\n",
       "                                                                   l1_ratio=0.15,\n",
       "                                                                   learning_rate='optimal',\n",
       "                                                                   loss='hinge',\n",
       "                                                                   max_iter=1000,\n",
       "                                                                   n_iter_no_change=5,\n",
       "                                                                   n_jobs=None,\n",
       "                                                                   penalty='l2',\n",
       "                                                                   power_t=0.5,\n",
       "                                                                   random_state=None,\n",
       "                                                                   shuffle=True,\n",
       "                                                                   tol=0.001,\n",
       "                                                                   validation_fraction=0.1,\n",
       "                                                                   verbose=0,\n",
       "                                                                   warm_start=False),\n",
       "                                           n_jobs=-1),\n",
       "             iid='warn', n_jobs=None,\n",
       "             param_grid={'estimator__alpha': [1e-07, 1e-06, 1e-05, 0.0001,\n",
       "                                              0.001, 0.01, 0.1],\n",
       "                         'estimator__loss': ['hinge', 'log'],\n",
       "                         'estimator__penalty': ['l1', 'l2']},\n",
       "             pre_dispatch='2*n_jobs', refit=True, return_train_score=False,\n",
       "             scoring='f1_micro', verbose=54)"
      ]
     },
     "execution_count": 62,
     "metadata": {
      "tags": []
     },
     "output_type": "execute_result"
    }
   ],
   "source": [
    "params = {'estimator__loss':['hinge','log'],'estimator__penalty':['l1','l2'],'estimator__alpha':[0.0000001,0.000001,0.00001,0.0001, 0.001, 0.01, 0.1]}\n",
    "clf = OneVsRestClassifier(SGDClassifier(), n_jobs=-1)\n",
    "model = GridSearchCV(clf, param_grid=params, scoring = 'f1_micro', cv=2, verbose=54)\n",
    "model.fit(x_train_multilabel, multilabel_y2)"
   ]
  },
  {
   "cell_type": "code",
   "execution_count": 63,
   "metadata": {
    "colab": {
     "base_uri": "https://localhost:8080/",
     "height": 69
    },
    "colab_type": "code",
    "id": "Ca9Xiv0lTlsD",
    "outputId": "3a598f0d-910b-4b17-94f4-bcd0057cb617"
   },
   "outputs": [
    {
     "data": {
      "text/plain": [
       "{'estimator__alpha': 1e-06,\n",
       " 'estimator__loss': 'hinge',\n",
       " 'estimator__penalty': 'l1'}"
      ]
     },
     "execution_count": 63,
     "metadata": {
      "tags": []
     },
     "output_type": "execute_result"
    }
   ],
   "source": [
    "model.best_params_"
   ]
  },
  {
   "cell_type": "code",
   "execution_count": 0,
   "metadata": {
    "colab": {},
    "colab_type": "code",
    "id": "jqOrSg2xVRpM"
   },
   "outputs": [],
   "source": [
    "predictions = model.predict(x_test_multilabel)"
   ]
  },
  {
   "cell_type": "code",
   "execution_count": 65,
   "metadata": {
    "colab": {
     "base_uri": "https://localhost:8080/",
     "height": 69
    },
    "colab_type": "code",
    "id": "V3kvQ6wvY-JL",
    "outputId": "a5545c28-2f0b-47b2-fccb-710f10aa5bea"
   },
   "outputs": [
    {
     "name": "stdout",
     "output_type": "stream",
     "text": [
      "PRECISION : 0.6749060707929603\n",
      "RECALL : 0.4224009900990099\n",
      "F1 SCORE: 0.5196011265890234\n"
     ]
    }
   ],
   "source": [
    "precision = precision_score(newytest, predictions, average='micro')\n",
    "recall = recall_score(newytest,predictions,average='micro')\n",
    "f1 = f1_score(newytest, predictions,average='micro')\n",
    "print(\"PRECISION :\", precision)\n",
    "print(\"RECALL :\", recall)\n",
    "print(\"F1 SCORE:\" ,f1)"
   ]
  },
  {
   "cell_type": "markdown",
   "metadata": {
    "colab_type": "text",
    "id": "K02R04h8vTMl"
   },
   "source": [
    "**FEATURE ENGINEERING: Considering title has more important than body, so giving more weightage to title may increase the f1 score of the model**"
   ]
  },
  {
   "cell_type": "code",
   "execution_count": 0,
   "metadata": {
    "colab": {},
    "colab_type": "code",
    "id": "b_EH_HVCwCo5"
   },
   "outputs": [],
   "source": [
    "edf=df_d_lim_pre.copy()"
   ]
  },
  {
   "cell_type": "code",
   "execution_count": 0,
   "metadata": {
    "colab": {},
    "colab_type": "code",
    "id": "WgWt-TOBvRUP"
   },
   "outputs": [],
   "source": [
    "def striphtml(data):\n",
    "    cleanr = re.compile('<.*?>')\n",
    "    cleantext = re.sub(cleanr, ' ', str(data))\n",
    "    return cleantext\n",
    "stop_words = set(stopwords.words('english'))\n",
    "stemmer = SnowballStemmer(\"english\")\n",
    "edf['final']=''\n",
    "temp_l=[]\n",
    "for i in range(len(edf)): \n",
    "  temp=edf.iloc[i,1]\n",
    "  title=edf.iloc[i,0]\n",
    "  temp=re.sub('<code>(.*?)</code>', '',temp, flags=re.MULTILINE|re.DOTALL)\n",
    "  temp=striphtml(temp.encode('utf-8'))\n",
    "  title=title.encode('utf-8')\n",
    "  temp=str(title)+\" \"+str(title)+\" \"+str(title)+\" \"+str(temp)\n",
    "  temp=re.sub(r'[^A-Za-z]+',' ',temp)\n",
    "  words=word_tokenize(str(temp.lower()))\n",
    "  temp=' '.join(str(stemmer.stem(j)) for j in words if j not in stop_words and (len(j)!=1 or j=='c'))\n",
    "  temp_l.append(temp)\n",
    "edf['final']=temp_l"
   ]
  },
  {
   "cell_type": "code",
   "execution_count": 68,
   "metadata": {
    "colab": {
     "base_uri": "https://localhost:8080/",
     "height": 397
    },
    "colab_type": "code",
    "id": "of4OIKzBvRlp",
    "outputId": "ced3ec47-bf80-4937-834e-eecf643597ec"
   },
   "outputs": [
    {
     "data": {
      "text/html": [
       "<div>\n",
       "<style scoped>\n",
       "    .dataframe tbody tr th:only-of-type {\n",
       "        vertical-align: middle;\n",
       "    }\n",
       "\n",
       "    .dataframe tbody tr th {\n",
       "        vertical-align: top;\n",
       "    }\n",
       "\n",
       "    .dataframe thead th {\n",
       "        text-align: right;\n",
       "    }\n",
       "</style>\n",
       "<table border=\"1\" class=\"dataframe\">\n",
       "  <thead>\n",
       "    <tr style=\"text-align: right;\">\n",
       "      <th></th>\n",
       "      <th>Title</th>\n",
       "      <th>Body</th>\n",
       "      <th>Tags</th>\n",
       "      <th>final</th>\n",
       "    </tr>\n",
       "  </thead>\n",
       "  <tbody>\n",
       "    <tr>\n",
       "      <th>2593497</th>\n",
       "      <td>Quick Question About NSFetchRequest and Relati...</td>\n",
       "      <td>&lt;p&gt;In my Core Data model, I have an entity Ses...</td>\n",
       "      <td>iphone objective-c xcode nsfetchedresultscontr...</td>\n",
       "      <td>quick question nsfetchrequest relationship qui...</td>\n",
       "    </tr>\n",
       "    <tr>\n",
       "      <th>4147004</th>\n",
       "      <td>update Window media player Param</td>\n",
       "      <td>&lt;p&gt;I added a WMP to my page as follow:&lt;/p&gt;\\n\\n...</td>\n",
       "      <td>jquery wmp</td>\n",
       "      <td>updat window media player param updat window m...</td>\n",
       "    </tr>\n",
       "    <tr>\n",
       "      <th>769195</th>\n",
       "      <td>Django: Filter for many to many field gives to...</td>\n",
       "      <td>&lt;p&gt;have the following four models&lt;/p&gt;\\n\\n&lt;p&gt;&lt;s...</td>\n",
       "      <td>python django query many-to-many</td>\n",
       "      <td>django filter mani mani field give mani answer...</td>\n",
       "    </tr>\n",
       "    <tr>\n",
       "      <th>998832</th>\n",
       "      <td>Force context menu to appear for form inputs</td>\n",
       "      <td>&lt;p&gt;I'm trying to develop a ff addon that allow...</td>\n",
       "      <td>firefox firefox-addon firefox-addon-sdk</td>\n",
       "      <td>forc context menu appear form input forc conte...</td>\n",
       "    </tr>\n",
       "    <tr>\n",
       "      <th>4117736</th>\n",
       "      <td>structure of modules over $\\mathbb{Z}^n$</td>\n",
       "      <td>&lt;p&gt;As we know, there's a structure theorem for...</td>\n",
       "      <td>ring-theory modules</td>\n",
       "      <td>structur modul mathbb structur modul mathbb st...</td>\n",
       "    </tr>\n",
       "  </tbody>\n",
       "</table>\n",
       "</div>"
      ],
      "text/plain": [
       "                                                     Title  ...                                              final\n",
       "2593497  Quick Question About NSFetchRequest and Relati...  ...  quick question nsfetchrequest relationship qui...\n",
       "4147004                   update Window media player Param  ...  updat window media player param updat window m...\n",
       "769195   Django: Filter for many to many field gives to...  ...  django filter mani mani field give mani answer...\n",
       "998832        Force context menu to appear for form inputs  ...  forc context menu appear form input forc conte...\n",
       "4117736           structure of modules over $\\mathbb{Z}^n$  ...  structur modul mathbb structur modul mathbb st...\n",
       "\n",
       "[5 rows x 4 columns]"
      ]
     },
     "execution_count": 68,
     "metadata": {
      "tags": []
     },
     "output_type": "execute_result"
    }
   ],
   "source": [
    "edf.head()"
   ]
  },
  {
   "cell_type": "code",
   "execution_count": 0,
   "metadata": {
    "colab": {},
    "colab_type": "code",
    "id": "Q0um-hO5vRsh"
   },
   "outputs": [],
   "source": [
    "new_df11=edf[['final','Tags']]\n",
    "new_df211=new_df11.sample(n=50000)\n",
    "xTrain11, xTest11= train_test_split(new_df211.values,test_size = 0.2, random_state = 0)\n",
    "YTRAIN11=xTrain11[:,1]\n",
    "YTEST11=xTest11[:,1]\n",
    "XTRAIN11=xTrain11[:,0]\n",
    "XTEST11=xTest11[:,0]\n",
    "\n",
    "vectorizer11 = TfidfVectorizer(min_df=0.00009, max_features=50000, smooth_idf=True,norm='l2',ngram_range=(1,3))\n",
    "x_train_multilabel11 = vectorizer11.fit_transform(XTRAIN11)\n",
    "x_test_multilabel11 = vectorizer11.transform(XTEST11)\n",
    "vectorizer111 = CountVectorizer(tokenizer = lambda x: x.split(), binary='true')\n",
    "YTRAIN_NEW11 = vectorizer111.fit_transform(YTRAIN11)\n",
    "\n",
    "abc1=vectorizer111.get_feature_names()\n",
    "\n",
    "\n",
    "\n",
    "def top_tags1(n):\n",
    "    t1=YTRAIN_NEW11.sum(axis=0).tolist()[0]\n",
    "    tags11=sorted(range(len(t1)), key=lambda i: t1[i], reverse=True)\n",
    "    tags_sel11=YTRAIN_NEW11[:,tags11[:n]]\n",
    "    return (tags_sel11,[abc1[i] for i in tags11[:n]])\n",
    "\n",
    "def partial_coverage1(n):\n",
    "    tags_matrix1,_ = top_tags1(n)\n",
    "    x=tags_matrix1.sum(axis=1)\n",
    "    return (np.count_nonzero(x==0))\n",
    "\n",
    "\n",
    "percentage_of_questions1= []\n",
    "total_tags1=YTRAIN_NEW11.shape[1]\n",
    "total_qs1=XTRAIN11.shape[0]\n",
    "for i in range(500, total_tags1,100):\n",
    "    percentage_of_questions1.append(np.round(((total_qs1-partial_coverage1(i))/total_qs1)*100,3))\n"
   ]
  },
  {
   "cell_type": "code",
   "execution_count": 86,
   "metadata": {
    "colab": {
     "base_uri": "https://localhost:8080/",
     "height": 52
    },
    "colab_type": "code",
    "id": "tQGeXaRevR05",
    "outputId": "34ec30e3-a642-4328-cf15-b503f92a2b88"
   },
   "outputs": [
    {
     "name": "stdout",
     "output_type": "stream",
     "text": [
      "train label shape (40000, 500)\n",
      "test label shape (10000, 500)\n"
     ]
    }
   ],
   "source": [
    "YTRAIN_NEW211,features11= top_tags1(500)\n",
    "\n",
    "\n",
    "vectorizer211 = CountVectorizer(vocabulary=features11,binary='true')\n",
    "multilabel_y211 = vectorizer211.fit_transform(YTRAIN11)\n",
    "print(\"train label shape\", multilabel_y211.shape)\n",
    "newytest11= vectorizer211.transform(YTEST11)\n",
    "print(\"test label shape\", newytest11.shape)\n",
    "\n"
   ]
  },
  {
   "cell_type": "code",
   "execution_count": 87,
   "metadata": {
    "colab": {
     "base_uri": "https://localhost:8080/",
     "height": 69
    },
    "colab_type": "code",
    "id": "mAvo4AWzvR74",
    "outputId": "ce5b5f26-633e-4885-8365-fc210b79165f"
   },
   "outputs": [
    {
     "name": "stdout",
     "output_type": "stream",
     "text": [
      "PRECISION : 0.717373572593801\n",
      "RECALL : 0.43394597261625756\n",
      "F1 SCORE: 0.5407731919145339\n"
     ]
    }
   ],
   "source": [
    "classifier1 = OneVsRestClassifier(SGDClassifier(loss='log', alpha=0.000001, penalty='l1'), n_jobs=-1)\n",
    "classifier1.fit(x_train_multilabel11, multilabel_y211)\n",
    "predictions11 = classifier1.predict(x_test_multilabel11)\n",
    "precision1 = precision_score(newytest11, predictions11, average='micro')\n",
    "recall1 = recall_score(newytest11,predictions11,average='micro')\n",
    "f11 = f1_score(newytest11, predictions11,average='micro')\n",
    "print(\"PRECISION :\", precision1)\n",
    "print(\"RECALL :\", recall1)\n",
    "print(\"F1 SCORE:\" ,f11)\n"
   ]
  },
  {
   "cell_type": "code",
   "execution_count": 88,
   "metadata": {
    "colab": {
     "base_uri": "https://localhost:8080/",
     "height": 34
    },
    "colab_type": "code",
    "id": "Ql031UcrC1MQ",
    "outputId": "8e50a668-93e5-49ea-a804-34a36b2db27f"
   },
   "outputs": [
    {
     "data": {
      "text/plain": [
       "['tfidf_text.pkl']"
      ]
     },
     "execution_count": 88,
     "metadata": {
      "tags": []
     },
     "output_type": "execute_result"
    }
   ],
   "source": [
    "import joblib\n",
    "joblib.dump(classifier1,'model.pkl')\n",
    "joblib.dump(features11,'features.pkl')\n",
    "joblib.dump(vectorizer11,'tfidf_text.pkl')"
   ]
  },
  {
   "cell_type": "code",
   "execution_count": 0,
   "metadata": {
    "colab": {},
    "colab_type": "code",
    "id": "Fc8hLRuqC1gs"
   },
   "outputs": [],
   "source": []
  }
 ],
 "metadata": {
  "accelerator": "GPU",
  "colab": {
   "name": "Copy of Untitled0.ipynb",
   "provenance": []
  },
  "kernelspec": {
   "display_name": "Python 3",
   "language": "python",
   "name": "python3"
  },
  "language_info": {
   "codemirror_mode": {
    "name": "ipython",
    "version": 3
   },
   "file_extension": ".py",
   "mimetype": "text/x-python",
   "name": "python",
   "nbconvert_exporter": "python",
   "pygments_lexer": "ipython3",
   "version": "3.6.8"
  }
 },
 "nbformat": 4,
 "nbformat_minor": 1
}
